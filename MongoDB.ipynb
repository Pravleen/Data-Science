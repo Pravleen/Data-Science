{
 "cells": [
  {
   "cell_type": "code",
   "execution_count": 15,
   "metadata": {},
   "outputs": [],
   "source": [
    "import pymongo"
   ]
  },
  {
   "cell_type": "code",
   "execution_count": 16,
   "metadata": {},
   "outputs": [],
   "source": [
    "DEFAULT_CONNECTION_URL = \"mongodb://localhost:27017/\"\n",
    "DB_NAME = \"Pravleen\"\n",
    "# Establish a connection with mongoDB\n",
    "client = pymongo.MongoClient(DEFAULT_CONNECTION_URL)\n",
    "\n",
    "# Create a DB\n",
    "dataBase = client[DB_NAME]"
   ]
  },
  {
   "cell_type": "code",
   "execution_count": 24,
   "metadata": {},
   "outputs": [
    {
     "data": {
      "text/plain": [
       "['Pravleen', 'admin', 'config', 'local']"
      ]
     },
     "execution_count": 24,
     "metadata": {},
     "output_type": "execute_result"
    }
   ],
   "source": [
    "# lets see what the existing list of DBs -\n",
    "\n",
    "client.list_database_names()"
   ]
  },
  {
   "cell_type": "code",
   "execution_count": 4,
   "metadata": {},
   "outputs": [
    {
     "name": "stdout",
     "output_type": "stream",
     "text": [
      "DB: 'Pravleen' not yet present OR no collection is present in the DB\n"
     ]
    }
   ],
   "source": [
    "# let's verify whether we have our database in the list or not \n",
    "# we'll use the following function:-\n",
    "\n",
    "def checkExistence_DB(DB_NAME, client):\n",
    "    \"\"\"It verifies the existence of DB\"\"\"\n",
    "    DBlist = client.list_database_names()\n",
    "    if DB_NAME in DBlist:\n",
    "        print(f\"DB: '{DB_NAME}' exists\")\n",
    "        return True\n",
    "    print(f\"DB: '{DB_NAME}' not yet present OR no collection is present in the DB\")\n",
    "    return False\n",
    "\n",
    "\n",
    "_ = checkExistence_DB(DB_NAME=DB_NAME, client=client)"
   ]
  },
  {
   "cell_type": "markdown",
   "metadata": {},
   "source": [
    "### STEP 2 CREATE  A COLLECTION"
   ]
  },
  {
   "cell_type": "code",
   "execution_count": 26,
   "metadata": {},
   "outputs": [],
   "source": [
    "COLLECTION_NAME = \"Pravleen_Products\"\n",
    "collection = dataBase[COLLECTION_NAME] "
   ]
  },
  {
   "cell_type": "code",
   "execution_count": 27,
   "metadata": {},
   "outputs": [
    {
     "name": "stdout",
     "output_type": "stream",
     "text": [
      "Collection:'Pravleen_Products' in Database:'Pravleen' exists\n"
     ]
    }
   ],
   "source": [
    "# let's verify whether we have our database in the list or not \n",
    "# we'll use the following function:-\n",
    "\n",
    "def checkExistence_COL(COLLECTION_NAME, DB_NAME, db):\n",
    "    \"\"\"It verifies the existence of collection name in a database\"\"\"\n",
    "    collection_list = db.list_collection_names()\n",
    "    \n",
    "    if COLLECTION_NAME in collection_list:\n",
    "        print(f\"Collection:'{COLLECTION_NAME}' in Database:'{DB_NAME}' exists\")\n",
    "        return True\n",
    "    \n",
    "    print(f\"Collection:'{COLLECTION_NAME}' in Database:'{DB_NAME}' does not exists OR \\n\\\n",
    "    no documents are present in the collection\")\n",
    "    return False\n",
    "\n",
    "\n",
    "_ = checkExistence_COL(COLLECTION_NAME=COLLECTION_NAME, DB_NAME=DB_NAME, db=dataBase)"
   ]
  },
  {
   "cell_type": "markdown",
   "metadata": {},
   "source": [
    "### STEP 3: Insert a record in the collection"
   ]
  },
  {
   "cell_type": "code",
   "execution_count": 10,
   "metadata": {},
   "outputs": [
    {
     "data": {
      "text/plain": [
       "<pymongo.results.InsertOneResult at 0x20aa202dc80>"
      ]
     },
     "execution_count": 10,
     "metadata": {},
     "output_type": "execute_result"
    }
   ],
   "source": [
    "record = {'companyName': 'iNeuron',\n",
    "         'product': 'Affordable AI',\n",
    "         'courseOffered': 'Deep Learning for Computer Vision'}\n",
    "\n",
    "collection.insert_one(record) ##now database will be available in mongodb"
   ]
  },
  {
   "cell_type": "code",
   "execution_count": 29,
   "metadata": {},
   "outputs": [
    {
     "name": "stdout",
     "output_type": "stream",
     "text": [
      "Collection:'Pravleen_Products' in Database:'Pravleen' exists\n"
     ]
    }
   ],
   "source": [
    "_ = checkExistence_COL(COLLECTION_NAME=COLLECTION_NAME, DB_NAME=DB_NAME, db=dataBase)"
   ]
  },
  {
   "cell_type": "markdown",
   "metadata": {},
   "source": [
    "### STEP 4: Insert multiple records\n"
   ]
  },
  {
   "cell_type": "code",
   "execution_count": 32,
   "metadata": {},
   "outputs": [],
   "source": [
    "\n",
    "list_of_records = [\n",
    "    {'companyName': 'iNeuron',\n",
    "     'product': 'Affordable AI',\n",
    "     'courseOffered': 'Machine Learning with Deployment'},\n",
    "    \n",
    "    {'companyName': 'iNeuron',\n",
    "     'product': 'Affordable AI',\n",
    "     'courseOffered': 'Deep Learning for NLP and Computer vision'},\n",
    "    \n",
    "    {'companyName': 'iNeuron',\n",
    "     'product': 'Master Program',\n",
    "     'courseOffered': 'Data Science Masters Program'}\n",
    "]\n",
    "\n",
    "rec = collection.insert_many(list_of_records)"
   ]
  },
  {
   "cell_type": "markdown",
   "metadata": {},
   "source": [
    "### STEP 5: Find method in MongoDB"
   ]
  },
  {
   "cell_type": "code",
   "execution_count": 19,
   "metadata": {},
   "outputs": [
    {
     "name": "stdout",
     "output_type": "stream",
     "text": [
      "The first record of collection: \n",
      "iNeuron_Faculties is=\n",
      "{'_id': '1', 'companyName': 'iNeuron', 'Faculty': 'Sudhanshu Kumar'}\n"
     ]
    }
   ],
   "source": [
    "find_first_record = faculties.find_one()\n",
    "\n",
    "print(f\"The first record of collection: \\n{COLLECTION_NAME} is=\\\n",
    "\\n{find_first_record}\")"
   ]
  },
  {
   "cell_type": "code",
   "execution_count": 20,
   "metadata": {},
   "outputs": [
    {
     "name": "stdout",
     "output_type": "stream",
     "text": [
      "0: {'_id': '1', 'companyName': 'iNeuron', 'Faculty': 'Sudhanshu Kumar'}\n",
      "1: {'_id': '2', 'companyName': 'iNeuron', 'Faculty': 'Virat Sagar'}\n"
     ]
    }
   ],
   "source": [
    "# find all the record at once present in thr record with all the fields\n",
    "all_record = faculties.find()\n",
    "\n",
    "for idx, record in enumerate(all_record):\n",
    "    print(f\"{idx}: {record}\")"
   ]
  },
  {
   "cell_type": "code",
   "execution_count": 21,
   "metadata": {},
   "outputs": [
    {
     "name": "stdout",
     "output_type": "stream",
     "text": [
      "0: {'_id': '1', 'Faculty': 'Sudhanshu Kumar'}\n",
      "1: {'_id': '2', 'Faculty': 'Virat Sagar'}\n"
     ]
    }
   ],
   "source": [
    "# find all the record at once present in the record with SPECIFIC fields\n",
    "all_record = faculties.find({}, {\"Faculty\"})\n",
    "\n",
    "for idx, record in enumerate(all_record):\n",
    "    print(f\"{idx}: {record}\")"
   ]
  },
  {
   "cell_type": "markdown",
   "metadata": {},
   "source": [
    "### STEP 6: Query or filter out data in MongoDB"
   ]
  },
  {
   "cell_type": "code",
   "execution_count": 33,
   "metadata": {},
   "outputs": [
    {
     "name": "stdout",
     "output_type": "stream",
     "text": [
      "{'_id': '1', 'companyName': 'iNeuron', 'Faculty': 'Sudhanshu Kumar'}\n"
     ]
    }
   ],
   "source": [
    "query1 = {\"_id\": '1'}\n",
    "\n",
    "results = faculties.find(query1)\n",
    "for data in results:\n",
    "    print(data)"
   ]
  },
  {
   "cell_type": "code",
   "execution_count": 34,
   "metadata": {},
   "outputs": [
    {
     "name": "stdout",
     "output_type": "stream",
     "text": [
      "{'_id': '2', 'companyName': 'iNeuron', 'Faculty': 'Virat Sagar'}\n"
     ]
    }
   ],
   "source": [
    "query2 = {\"_id\": {\"$gt\": \"1\"}}\n",
    "\n",
    "results = faculties.find(query2)\n",
    "for data in results:\n",
    "    print(data)"
   ]
  },
  {
   "cell_type": "markdown",
   "metadata": {},
   "source": [
    "### STEP 7: Delete one or many documents in MongoDB"
   ]
  },
  {
   "cell_type": "code",
   "execution_count": 35,
   "metadata": {},
   "outputs": [
    {
     "data": {
      "text/plain": [
       "<pymongo.results.InsertManyResult at 0x20aa1879540>"
      ]
     },
     "execution_count": 35,
     "metadata": {},
     "output_type": "execute_result"
    }
   ],
   "source": [
    "# Lets add some random data in faculties\n",
    "random_data = [\n",
    "    {'_id': '3', 'companyName': 'iNeuron', 'Faculty': 'XYZ'},\n",
    "    {'_id': '4', 'companyName': 'iNeuron', 'Faculty': 'ABC'},\n",
    "    {'_id': '5', 'companyName': 'iNeuron', 'Faculty': 'PQR'},\n",
    "]\n",
    "\n",
    "faculties.insert_many(random_data)"
   ]
  },
  {
   "cell_type": "code",
   "execution_count": 36,
   "metadata": {},
   "outputs": [
    {
     "data": {
      "text/plain": [
       "<pymongo.results.DeleteResult at 0x20aa19a3480>"
      ]
     },
     "execution_count": 36,
     "metadata": {},
     "output_type": "execute_result"
    }
   ],
   "source": [
    "# Lets delete one document in faculties\n",
    "query_to_delete = {\"Faculty\": \"XYZ\"}\n",
    "\n",
    "faculties.delete_one(query_to_delete)"
   ]
  },
  {
   "cell_type": "code",
   "execution_count": 37,
   "metadata": {},
   "outputs": [
    {
     "data": {
      "text/plain": [
       "<pymongo.results.DeleteResult at 0x20aa18b4d00>"
      ]
     },
     "execution_count": 37,
     "metadata": {},
     "output_type": "execute_result"
    }
   ],
   "source": [
    "# lets delete multiple record\n",
    "multi_query_to_delete = {\"_id\": {\"$gte\": \"4\"}}\n",
    "\n",
    "faculties.delete_many(multi_query_to_delete)"
   ]
  },
  {
   "cell_type": "markdown",
   "metadata": {},
   "source": [
    "> **NOTE**: In order to delete all the documents present in the collection you can just pass and empty dictionary as shown below: -\n",
    "```python\n",
    "faculties.delete_many({})\n",
    "```"
   ]
  },
  {
   "cell_type": "markdown",
   "metadata": {},
   "source": [
    "### STEP 8: Drop the entire collection"
   ]
  },
  {
   "cell_type": "code",
   "execution_count": 38,
   "metadata": {},
   "outputs": [],
   "source": [
    "faculties.drop()"
   ]
  },
  {
   "cell_type": "code",
   "execution_count": 39,
   "metadata": {},
   "outputs": [
    {
     "name": "stdout",
     "output_type": "stream",
     "text": [
      "Collection:'iNeuron_Faculties' in Database:'iNeuron' does not exists OR \n",
      "    no documents are present in the collection\n"
     ]
    }
   ],
   "source": [
    "# Lets verify if the collection exists or not after dropping it\n",
    "COLLECTION_NAME = \"iNeuron_Faculties\"\n",
    "DB_NAME = \"iNeuron\"\n",
    "_ = checkExistence_COL(COLLECTION_NAME=COLLECTION_NAME, DB_NAME=DB_NAME, db=dataBase)"
   ]
  },
  {
   "cell_type": "code",
   "execution_count": 40,
   "metadata": {},
   "outputs": [],
   "source": [
    "### STEP 9: Update"
   ]
  },
  {
   "cell_type": "code",
   "execution_count": 42,
   "metadata": {},
   "outputs": [
    {
     "name": "stdout",
     "output_type": "stream",
     "text": [
      "{'_id': ObjectId('5f8b44549281e728500f90b8'), 'companyName': 'iNeuron', 'product': 'Affordable AI', 'courseOffered': 'Deep Learning for Computer Vision'}\n",
      "\n",
      "{'_id': ObjectId('5f8b44729281e728500f90b9'), 'companyName': 'iNeuron', 'product': 'Affordable AI', 'courseOffered': 'Deep Learning for Computer Vision'}\n",
      "\n",
      "{'_id': ObjectId('5f8b46f29281e728500f90ba'), 'companyName': 'iNeuron', 'product': 'Affordable AI', 'courseOffered': 'Machine Learning with Deployment'}\n",
      "\n",
      "{'_id': ObjectId('5f8b46f29281e728500f90bb'), 'companyName': 'iNeuron', 'product': 'Affordable AI', 'courseOffered': 'Deep Learning for NLP and Computer vision'}\n",
      "\n",
      "{'_id': ObjectId('5f8b46f29281e728500f90bc'), 'companyName': 'iNeuron', 'product': 'Master Program', 'courseOffered': 'Data Science Masters Program'}\n",
      "\n",
      "{'_id': ObjectId('5f8c0ad79281e728500f90be'), 'companyName': 'iNeuron', 'product': 'Affordable AI', 'courseOffered': 'Machine Learning with Deployment'}\n",
      "\n",
      "{'_id': ObjectId('5f8c0ad79281e728500f90bf'), 'companyName': 'iNeuron', 'product': 'Affordable AI', 'courseOffered': 'Deep Learning for NLP and Computer vision'}\n",
      "\n",
      "{'_id': ObjectId('5f8c0ad79281e728500f90c0'), 'companyName': 'iNeuron', 'product': 'Master Program', 'courseOffered': 'Data Science Masters Program'}\n",
      "\n",
      "{'_id': ObjectId('5f8c0cb99281e728500f90c1'), 'companyName': 'iNeuron', 'product': 'Affordable AI', 'courseOffered': 'Machine Learning with Deployment'}\n",
      "\n",
      "{'_id': ObjectId('5f8c0cb99281e728500f90c2'), 'companyName': 'iNeuron', 'product': 'Affordable AI', 'courseOffered': 'Deep Learning for NLP and Computer vision'}\n",
      "\n",
      "{'_id': ObjectId('5f8c0cb99281e728500f90c3'), 'companyName': 'iNeuron', 'product': 'Master Program', 'courseOffered': 'Data Science Masters Program'}\n",
      "\n"
     ]
    }
   ],
   "source": [
    "COLLECTION_NAME = \"Pravleen_Products\"\n",
    "\n",
    "products = dataBase[COLLECTION_NAME]\n",
    "\n",
    "all_record = products.find()\n",
    "\n",
    "for idx, record in enumerate(all_record):\n",
    "    print(f\"{record}\\n\")"
   ]
  },
  {
   "cell_type": "code",
   "execution_count": 43,
   "metadata": {},
   "outputs": [],
   "source": [
    "present_data = {'courseOffered': 'Machine Learning with Deployment'}\n",
    "new_data = {\"$set\":{'courseOffered': 'ML and DL with Deployment'}}"
   ]
  },
  {
   "cell_type": "code",
   "execution_count": 44,
   "metadata": {},
   "outputs": [
    {
     "data": {
      "text/plain": [
       "<pymongo.results.UpdateResult at 0x20aa19e9680>"
      ]
     },
     "execution_count": 44,
     "metadata": {},
     "output_type": "execute_result"
    }
   ],
   "source": [
    "products.update_one(present_data, new_data)"
   ]
  },
  {
   "cell_type": "code",
   "execution_count": 45,
   "metadata": {},
   "outputs": [
    {
     "name": "stdout",
     "output_type": "stream",
     "text": [
      "{'_id': ObjectId('5f8b44549281e728500f90b8'), 'companyName': 'iNeuron', 'product': 'Affordable AI', 'courseOffered': 'Deep Learning for Computer Vision'}\n",
      "\n",
      "{'_id': ObjectId('5f8b44729281e728500f90b9'), 'companyName': 'iNeuron', 'product': 'Affordable AI', 'courseOffered': 'Deep Learning for Computer Vision'}\n",
      "\n",
      "{'_id': ObjectId('5f8b46f29281e728500f90ba'), 'companyName': 'iNeuron', 'product': 'Affordable AI', 'courseOffered': 'ML and DL with Deployment'}\n",
      "\n",
      "{'_id': ObjectId('5f8b46f29281e728500f90bb'), 'companyName': 'iNeuron', 'product': 'Affordable AI', 'courseOffered': 'Deep Learning for NLP and Computer vision'}\n",
      "\n",
      "{'_id': ObjectId('5f8b46f29281e728500f90bc'), 'companyName': 'iNeuron', 'product': 'Master Program', 'courseOffered': 'Data Science Masters Program'}\n",
      "\n",
      "{'_id': ObjectId('5f8c0ad79281e728500f90be'), 'companyName': 'iNeuron', 'product': 'Affordable AI', 'courseOffered': 'Machine Learning with Deployment'}\n",
      "\n",
      "{'_id': ObjectId('5f8c0ad79281e728500f90bf'), 'companyName': 'iNeuron', 'product': 'Affordable AI', 'courseOffered': 'Deep Learning for NLP and Computer vision'}\n",
      "\n",
      "{'_id': ObjectId('5f8c0ad79281e728500f90c0'), 'companyName': 'iNeuron', 'product': 'Master Program', 'courseOffered': 'Data Science Masters Program'}\n",
      "\n",
      "{'_id': ObjectId('5f8c0cb99281e728500f90c1'), 'companyName': 'iNeuron', 'product': 'Affordable AI', 'courseOffered': 'Machine Learning with Deployment'}\n",
      "\n",
      "{'_id': ObjectId('5f8c0cb99281e728500f90c2'), 'companyName': 'iNeuron', 'product': 'Affordable AI', 'courseOffered': 'Deep Learning for NLP and Computer vision'}\n",
      "\n",
      "{'_id': ObjectId('5f8c0cb99281e728500f90c3'), 'companyName': 'iNeuron', 'product': 'Master Program', 'courseOffered': 'Data Science Masters Program'}\n",
      "\n"
     ]
    }
   ],
   "source": [
    "all_record = products.find()\n",
    "\n",
    "for idx, record in enumerate(all_record):\n",
    "    print(f\"{record}\\n\")"
   ]
  },
  {
   "cell_type": "code",
   "execution_count": 46,
   "metadata": {},
   "outputs": [],
   "source": [
    "present_data = {'companyName': 'iNeuron'}\n",
    "new_data = {\"$set\": {'companyName': 'iNeuron.ai'}}"
   ]
  },
  {
   "cell_type": "code",
   "execution_count": 47,
   "metadata": {},
   "outputs": [
    {
     "name": "stdout",
     "output_type": "stream",
     "text": [
      "{'_id': ObjectId('5f8b44549281e728500f90b8'), 'companyName': 'iNeuron.ai', 'product': 'Affordable AI', 'courseOffered': 'Deep Learning for Computer Vision'}\n",
      "\n",
      "{'_id': ObjectId('5f8b44729281e728500f90b9'), 'companyName': 'iNeuron.ai', 'product': 'Affordable AI', 'courseOffered': 'Deep Learning for Computer Vision'}\n",
      "\n",
      "{'_id': ObjectId('5f8b46f29281e728500f90ba'), 'companyName': 'iNeuron.ai', 'product': 'Affordable AI', 'courseOffered': 'ML and DL with Deployment'}\n",
      "\n",
      "{'_id': ObjectId('5f8b46f29281e728500f90bb'), 'companyName': 'iNeuron.ai', 'product': 'Affordable AI', 'courseOffered': 'Deep Learning for NLP and Computer vision'}\n",
      "\n",
      "{'_id': ObjectId('5f8b46f29281e728500f90bc'), 'companyName': 'iNeuron.ai', 'product': 'Master Program', 'courseOffered': 'Data Science Masters Program'}\n",
      "\n",
      "{'_id': ObjectId('5f8c0ad79281e728500f90be'), 'companyName': 'iNeuron.ai', 'product': 'Affordable AI', 'courseOffered': 'Machine Learning with Deployment'}\n",
      "\n",
      "{'_id': ObjectId('5f8c0ad79281e728500f90bf'), 'companyName': 'iNeuron.ai', 'product': 'Affordable AI', 'courseOffered': 'Deep Learning for NLP and Computer vision'}\n",
      "\n",
      "{'_id': ObjectId('5f8c0ad79281e728500f90c0'), 'companyName': 'iNeuron.ai', 'product': 'Master Program', 'courseOffered': 'Data Science Masters Program'}\n",
      "\n",
      "{'_id': ObjectId('5f8c0cb99281e728500f90c1'), 'companyName': 'iNeuron.ai', 'product': 'Affordable AI', 'courseOffered': 'Machine Learning with Deployment'}\n",
      "\n",
      "{'_id': ObjectId('5f8c0cb99281e728500f90c2'), 'companyName': 'iNeuron.ai', 'product': 'Affordable AI', 'courseOffered': 'Deep Learning for NLP and Computer vision'}\n",
      "\n",
      "{'_id': ObjectId('5f8c0cb99281e728500f90c3'), 'companyName': 'iNeuron.ai', 'product': 'Master Program', 'courseOffered': 'Data Science Masters Program'}\n",
      "\n"
     ]
    }
   ],
   "source": [
    "products.update_many(present_data, new_data)\n",
    "\n",
    "all_record = products.find()\n",
    "\n",
    "for idx, record in enumerate(all_record):\n",
    "    print(f\"{record}\\n\")"
   ]
  },
  {
   "cell_type": "markdown",
   "metadata": {},
   "source": [
    "### STEP 9: Set limit to view N records"
   ]
  },
  {
   "cell_type": "code",
   "execution_count": null,
   "metadata": {},
   "outputs": [],
   "source": [
    "N_records = 3\n",
    "\n",
    "N_record = products.find().limit(N_records)\n",
    "\n",
    "for idx, record in enumerate(N_record):\n",
    "    print(f\"{record}\\n\")"
   ]
  }
 ],
 "metadata": {
  "kernelspec": {
   "display_name": "Python 3",
   "language": "python",
   "name": "python3"
  },
  "language_info": {
   "codemirror_mode": {
    "name": "ipython",
    "version": 3
   },
   "file_extension": ".py",
   "mimetype": "text/x-python",
   "name": "python",
   "nbconvert_exporter": "python",
   "pygments_lexer": "ipython3",
   "version": "3.8.3"
  }
 },
 "nbformat": 4,
 "nbformat_minor": 4
}
