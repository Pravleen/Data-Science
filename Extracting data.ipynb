{
 "cells": [
  {
   "cell_type": "code",
   "execution_count": 4,
   "metadata": {},
   "outputs": [
    {
     "data": {
      "text/plain": [
       "'Why Infrastructure Is So Expensive \\nA subway-style diagram of the major Roman roads\\nBaby Bird from Time of Dinosaurs Found Fossilized\\nMIT Gets $140M Pledge from Anonymous Donor (wsj.com)\\nHow hackers abused satellites to stay under the radar (2015)\\nFiduciary Rule Fight Brews While Bad Financial Advisers\\nIn 1957, Five Men Agreed to Stand Under an Exploding Nuclear Bomb\\n'"
      ]
     },
     "execution_count": 4,
     "metadata": {},
     "output_type": "execute_result"
    }
   ],
   "source": [
    "file =open(\"../news.txt\",'r')\n",
    "file.read()"
   ]
  },
  {
   "cell_type": "code",
   "execution_count": 5,
   "metadata": {},
   "outputs": [
    {
     "name": "stdout",
     "output_type": "stream",
     "text": [
      "Why Infrastructure Is So Expensive \n",
      "\n"
     ]
    }
   ],
   "source": [
    "with open(\"../news.txt\",\"r\") as file1:\n",
    "    print(file1.readline())"
   ]
  },
  {
   "cell_type": "code",
   "execution_count": 6,
   "metadata": {},
   "outputs": [],
   "source": [
    "import numpy as np\n",
    "import pandas as pd"
   ]
  },
  {
   "cell_type": "code",
   "execution_count": 8,
   "metadata": {},
   "outputs": [
    {
     "data": {
      "text/plain": [
       "array([[5., 0., 0., ..., 0., 0., 0.],\n",
       "       [4., 0., 0., ..., 0., 0., 0.],\n",
       "       [1., 0., 0., ..., 0., 0., 0.],\n",
       "       ...,\n",
       "       [1., 0., 0., ..., 0., 0., 0.],\n",
       "       [3., 0., 0., ..., 0., 0., 0.],\n",
       "       [1., 0., 0., ..., 0., 0., 0.]])"
      ]
     },
     "execution_count": 8,
     "metadata": {},
     "output_type": "execute_result"
    }
   ],
   "source": [
    "mnist=np.loadtxt(\"mnist.csv\",comments='#',delimiter=',',dtype=\"float\")\n",
    "mnist\n"
   ]
  },
  {
   "cell_type": "code",
   "execution_count": 16,
   "metadata": {},
   "outputs": [
    {
     "data": {
      "text/plain": [
       "array([( 1, '1st', 'Male', 'Child', 'No',   0),\n",
       "       ( 2, '2nd', 'Male', 'Child', 'No',   0),\n",
       "       ( 3, '3rd', 'Male', 'Child', 'No',  35),\n",
       "       ( 4, 'Crew', 'Male', 'Child', 'No',   0),\n",
       "       ( 5, '1st', 'Female', 'Child', 'No',   0),\n",
       "       ( 6, '2nd', 'Female', 'Child', 'No',   0),\n",
       "       ( 7, '3rd', 'Female', 'Child', 'No',  17),\n",
       "       ( 8, 'Crew', 'Female', 'Child', 'No',   0),\n",
       "       ( 9, '1st', 'Male', 'Adult', 'No', 118),\n",
       "       (10, '2nd', 'Male', 'Adult', 'No', 154),\n",
       "       (11, '3rd', 'Male', 'Adult', 'No', 387),\n",
       "       (12, 'Crew', 'Male', 'Adult', 'No', 670),\n",
       "       (13, '1st', 'Female', 'Adult', 'No',   4),\n",
       "       (14, '2nd', 'Female', 'Adult', 'No',  13),\n",
       "       (15, '3rd', 'Female', 'Adult', 'No',  89),\n",
       "       (16, 'Crew', 'Female', 'Adult', 'No',   3),\n",
       "       (17, '1st', 'Male', 'Child', 'Yes',   5),\n",
       "       (18, '2nd', 'Male', 'Child', 'Yes',  11),\n",
       "       (19, '3rd', 'Male', 'Child', 'Yes',  13),\n",
       "       (20, 'Crew', 'Male', 'Child', 'Yes',   0),\n",
       "       (21, '1st', 'Female', 'Child', 'Yes',   1),\n",
       "       (22, '2nd', 'Female', 'Child', 'Yes',  13),\n",
       "       (23, '3rd', 'Female', 'Child', 'Yes',  14),\n",
       "       (24, 'Crew', 'Female', 'Child', 'Yes',   0),\n",
       "       (25, '1st', 'Male', 'Adult', 'Yes',  57),\n",
       "       (26, '2nd', 'Male', 'Adult', 'Yes',  14),\n",
       "       (27, '3rd', 'Male', 'Adult', 'Yes',  75),\n",
       "       (28, 'Crew', 'Male', 'Adult', 'Yes', 192),\n",
       "       (29, '1st', 'Female', 'Adult', 'Yes', 140),\n",
       "       (30, '2nd', 'Female', 'Adult', 'Yes',  80)],\n",
       "      dtype=[('f0', '<i4'), ('f1', '<U4'), ('f2', '<U6'), ('f3', '<U5'), ('f4', '<U3'), ('f5', '<i4')])"
      ]
     },
     "execution_count": 16,
     "metadata": {},
     "output_type": "execute_result"
    }
   ],
   "source": [
    "tita=np.genfromtxt(\"titanic.csv\",delimiter=\",\",dtype=None,skip_header=1,encoding='ascii')\n",
    "tita\n"
   ]
  },
  {
   "cell_type": "code",
   "execution_count": 19,
   "metadata": {},
   "outputs": [
    {
     "data": {
      "text/html": [
       "<div>\n",
       "<style scoped>\n",
       "    .dataframe tbody tr th:only-of-type {\n",
       "        vertical-align: middle;\n",
       "    }\n",
       "\n",
       "    .dataframe tbody tr th {\n",
       "        vertical-align: top;\n",
       "    }\n",
       "\n",
       "    .dataframe thead th {\n",
       "        text-align: right;\n",
       "    }\n",
       "</style>\n",
       "<table border=\"1\" class=\"dataframe\">\n",
       "  <thead>\n",
       "    <tr style=\"text-align: right;\">\n",
       "      <th></th>\n",
       "      <th>No</th>\n",
       "      <th>Class</th>\n",
       "      <th>Sex</th>\n",
       "      <th>Age</th>\n",
       "      <th>Survived</th>\n",
       "      <th>Freq</th>\n",
       "    </tr>\n",
       "  </thead>\n",
       "  <tbody>\n",
       "    <tr>\n",
       "      <td>0</td>\n",
       "      <td>1</td>\n",
       "      <td>1st</td>\n",
       "      <td>Male</td>\n",
       "      <td>Child</td>\n",
       "      <td>No</td>\n",
       "      <td>0</td>\n",
       "    </tr>\n",
       "    <tr>\n",
       "      <td>1</td>\n",
       "      <td>2</td>\n",
       "      <td>2nd</td>\n",
       "      <td>Male</td>\n",
       "      <td>Child</td>\n",
       "      <td>No</td>\n",
       "      <td>0</td>\n",
       "    </tr>\n",
       "    <tr>\n",
       "      <td>2</td>\n",
       "      <td>3</td>\n",
       "      <td>3rd</td>\n",
       "      <td>Male</td>\n",
       "      <td>Child</td>\n",
       "      <td>No</td>\n",
       "      <td>35</td>\n",
       "    </tr>\n",
       "    <tr>\n",
       "      <td>3</td>\n",
       "      <td>4</td>\n",
       "      <td>Crew</td>\n",
       "      <td>Male</td>\n",
       "      <td>Child</td>\n",
       "      <td>No</td>\n",
       "      <td>0</td>\n",
       "    </tr>\n",
       "    <tr>\n",
       "      <td>4</td>\n",
       "      <td>5</td>\n",
       "      <td>1st</td>\n",
       "      <td>Female</td>\n",
       "      <td>Child</td>\n",
       "      <td>No</td>\n",
       "      <td>0</td>\n",
       "    </tr>\n",
       "    <tr>\n",
       "      <td>5</td>\n",
       "      <td>6</td>\n",
       "      <td>2nd</td>\n",
       "      <td>Female</td>\n",
       "      <td>Child</td>\n",
       "      <td>No</td>\n",
       "      <td>0</td>\n",
       "    </tr>\n",
       "    <tr>\n",
       "      <td>6</td>\n",
       "      <td>7</td>\n",
       "      <td>3rd</td>\n",
       "      <td>Female</td>\n",
       "      <td>Child</td>\n",
       "      <td>No</td>\n",
       "      <td>17</td>\n",
       "    </tr>\n",
       "    <tr>\n",
       "      <td>7</td>\n",
       "      <td>8</td>\n",
       "      <td>Crew</td>\n",
       "      <td>Female</td>\n",
       "      <td>Child</td>\n",
       "      <td>No</td>\n",
       "      <td>0</td>\n",
       "    </tr>\n",
       "    <tr>\n",
       "      <td>8</td>\n",
       "      <td>9</td>\n",
       "      <td>1st</td>\n",
       "      <td>Male</td>\n",
       "      <td>Adult</td>\n",
       "      <td>No</td>\n",
       "      <td>118</td>\n",
       "    </tr>\n",
       "    <tr>\n",
       "      <td>9</td>\n",
       "      <td>10</td>\n",
       "      <td>2nd</td>\n",
       "      <td>Male</td>\n",
       "      <td>Adult</td>\n",
       "      <td>No</td>\n",
       "      <td>154</td>\n",
       "    </tr>\n",
       "    <tr>\n",
       "      <td>10</td>\n",
       "      <td>11</td>\n",
       "      <td>3rd</td>\n",
       "      <td>Male</td>\n",
       "      <td>Adult</td>\n",
       "      <td>No</td>\n",
       "      <td>387</td>\n",
       "    </tr>\n",
       "    <tr>\n",
       "      <td>11</td>\n",
       "      <td>12</td>\n",
       "      <td>Crew</td>\n",
       "      <td>Male</td>\n",
       "      <td>Adult</td>\n",
       "      <td>No</td>\n",
       "      <td>670</td>\n",
       "    </tr>\n",
       "    <tr>\n",
       "      <td>12</td>\n",
       "      <td>13</td>\n",
       "      <td>1st</td>\n",
       "      <td>Female</td>\n",
       "      <td>Adult</td>\n",
       "      <td>No</td>\n",
       "      <td>4</td>\n",
       "    </tr>\n",
       "    <tr>\n",
       "      <td>13</td>\n",
       "      <td>14</td>\n",
       "      <td>2nd</td>\n",
       "      <td>Female</td>\n",
       "      <td>Adult</td>\n",
       "      <td>No</td>\n",
       "      <td>13</td>\n",
       "    </tr>\n",
       "    <tr>\n",
       "      <td>14</td>\n",
       "      <td>15</td>\n",
       "      <td>3rd</td>\n",
       "      <td>Female</td>\n",
       "      <td>Adult</td>\n",
       "      <td>No</td>\n",
       "      <td>89</td>\n",
       "    </tr>\n",
       "    <tr>\n",
       "      <td>15</td>\n",
       "      <td>16</td>\n",
       "      <td>Crew</td>\n",
       "      <td>Female</td>\n",
       "      <td>Adult</td>\n",
       "      <td>No</td>\n",
       "      <td>3</td>\n",
       "    </tr>\n",
       "    <tr>\n",
       "      <td>16</td>\n",
       "      <td>17</td>\n",
       "      <td>1st</td>\n",
       "      <td>Male</td>\n",
       "      <td>Child</td>\n",
       "      <td>Yes</td>\n",
       "      <td>5</td>\n",
       "    </tr>\n",
       "    <tr>\n",
       "      <td>17</td>\n",
       "      <td>18</td>\n",
       "      <td>2nd</td>\n",
       "      <td>Male</td>\n",
       "      <td>Child</td>\n",
       "      <td>Yes</td>\n",
       "      <td>11</td>\n",
       "    </tr>\n",
       "    <tr>\n",
       "      <td>18</td>\n",
       "      <td>19</td>\n",
       "      <td>3rd</td>\n",
       "      <td>Male</td>\n",
       "      <td>Child</td>\n",
       "      <td>Yes</td>\n",
       "      <td>13</td>\n",
       "    </tr>\n",
       "    <tr>\n",
       "      <td>19</td>\n",
       "      <td>20</td>\n",
       "      <td>Crew</td>\n",
       "      <td>Male</td>\n",
       "      <td>Child</td>\n",
       "      <td>Yes</td>\n",
       "      <td>0</td>\n",
       "    </tr>\n",
       "    <tr>\n",
       "      <td>20</td>\n",
       "      <td>21</td>\n",
       "      <td>1st</td>\n",
       "      <td>Female</td>\n",
       "      <td>Child</td>\n",
       "      <td>Yes</td>\n",
       "      <td>1</td>\n",
       "    </tr>\n",
       "    <tr>\n",
       "      <td>21</td>\n",
       "      <td>22</td>\n",
       "      <td>2nd</td>\n",
       "      <td>Female</td>\n",
       "      <td>Child</td>\n",
       "      <td>Yes</td>\n",
       "      <td>13</td>\n",
       "    </tr>\n",
       "    <tr>\n",
       "      <td>22</td>\n",
       "      <td>23</td>\n",
       "      <td>3rd</td>\n",
       "      <td>Female</td>\n",
       "      <td>Child</td>\n",
       "      <td>Yes</td>\n",
       "      <td>14</td>\n",
       "    </tr>\n",
       "    <tr>\n",
       "      <td>23</td>\n",
       "      <td>24</td>\n",
       "      <td>Crew</td>\n",
       "      <td>Female</td>\n",
       "      <td>Child</td>\n",
       "      <td>Yes</td>\n",
       "      <td>0</td>\n",
       "    </tr>\n",
       "    <tr>\n",
       "      <td>24</td>\n",
       "      <td>25</td>\n",
       "      <td>1st</td>\n",
       "      <td>Male</td>\n",
       "      <td>Adult</td>\n",
       "      <td>Yes</td>\n",
       "      <td>57</td>\n",
       "    </tr>\n",
       "    <tr>\n",
       "      <td>25</td>\n",
       "      <td>26</td>\n",
       "      <td>2nd</td>\n",
       "      <td>Male</td>\n",
       "      <td>Adult</td>\n",
       "      <td>Yes</td>\n",
       "      <td>14</td>\n",
       "    </tr>\n",
       "    <tr>\n",
       "      <td>26</td>\n",
       "      <td>27</td>\n",
       "      <td>3rd</td>\n",
       "      <td>Male</td>\n",
       "      <td>Adult</td>\n",
       "      <td>Yes</td>\n",
       "      <td>75</td>\n",
       "    </tr>\n",
       "    <tr>\n",
       "      <td>27</td>\n",
       "      <td>28</td>\n",
       "      <td>Crew</td>\n",
       "      <td>Male</td>\n",
       "      <td>Adult</td>\n",
       "      <td>Yes</td>\n",
       "      <td>192</td>\n",
       "    </tr>\n",
       "    <tr>\n",
       "      <td>28</td>\n",
       "      <td>29</td>\n",
       "      <td>1st</td>\n",
       "      <td>Female</td>\n",
       "      <td>Adult</td>\n",
       "      <td>Yes</td>\n",
       "      <td>140</td>\n",
       "    </tr>\n",
       "    <tr>\n",
       "      <td>29</td>\n",
       "      <td>30</td>\n",
       "      <td>2nd</td>\n",
       "      <td>Female</td>\n",
       "      <td>Adult</td>\n",
       "      <td>Yes</td>\n",
       "      <td>80</td>\n",
       "    </tr>\n",
       "  </tbody>\n",
       "</table>\n",
       "</div>"
      ],
      "text/plain": [
       "    No Class     Sex    Age Survived  Freq\n",
       "0    1   1st    Male  Child       No     0\n",
       "1    2   2nd    Male  Child       No     0\n",
       "2    3   3rd    Male  Child       No    35\n",
       "3    4  Crew    Male  Child       No     0\n",
       "4    5   1st  Female  Child       No     0\n",
       "5    6   2nd  Female  Child       No     0\n",
       "6    7   3rd  Female  Child       No    17\n",
       "7    8  Crew  Female  Child       No     0\n",
       "8    9   1st    Male  Adult       No   118\n",
       "9   10   2nd    Male  Adult       No   154\n",
       "10  11   3rd    Male  Adult       No   387\n",
       "11  12  Crew    Male  Adult       No   670\n",
       "12  13   1st  Female  Adult       No     4\n",
       "13  14   2nd  Female  Adult       No    13\n",
       "14  15   3rd  Female  Adult       No    89\n",
       "15  16  Crew  Female  Adult       No     3\n",
       "16  17   1st    Male  Child      Yes     5\n",
       "17  18   2nd    Male  Child      Yes    11\n",
       "18  19   3rd    Male  Child      Yes    13\n",
       "19  20  Crew    Male  Child      Yes     0\n",
       "20  21   1st  Female  Child      Yes     1\n",
       "21  22   2nd  Female  Child      Yes    13\n",
       "22  23   3rd  Female  Child      Yes    14\n",
       "23  24  Crew  Female  Child      Yes     0\n",
       "24  25   1st    Male  Adult      Yes    57\n",
       "25  26   2nd    Male  Adult      Yes    14\n",
       "26  27   3rd    Male  Adult      Yes    75\n",
       "27  28  Crew    Male  Adult      Yes   192\n",
       "28  29   1st  Female  Adult      Yes   140\n",
       "29  30   2nd  Female  Adult      Yes    80"
      ]
     },
     "execution_count": 19,
     "metadata": {},
     "output_type": "execute_result"
    }
   ],
   "source": [
    "data=pd.read_csv('titanic.csv',sep=',')\n",
    "data"
   ]
  },
  {
   "cell_type": "code",
   "execution_count": 22,
   "metadata": {},
   "outputs": [
    {
     "data": {
      "text/plain": [
       "['s1', 's2']"
      ]
     },
     "execution_count": 22,
     "metadata": {},
     "output_type": "execute_result"
    }
   ],
   "source": [
    "file=pd.ExcelFile('ExcelTest.xlsx')\n",
    "file.sheet_names"
   ]
  },
  {
   "cell_type": "code",
   "execution_count": 23,
   "metadata": {},
   "outputs": [],
   "source": [
    "df1=file.parse('s1')\n",
    "df2=file.parse('s2')\n",
    "\n"
   ]
  },
  {
   "cell_type": "code",
   "execution_count": 24,
   "metadata": {},
   "outputs": [
    {
     "data": {
      "text/html": [
       "<div>\n",
       "<style scoped>\n",
       "    .dataframe tbody tr th:only-of-type {\n",
       "        vertical-align: middle;\n",
       "    }\n",
       "\n",
       "    .dataframe tbody tr th {\n",
       "        vertical-align: top;\n",
       "    }\n",
       "\n",
       "    .dataframe thead th {\n",
       "        text-align: right;\n",
       "    }\n",
       "</style>\n",
       "<table border=\"1\" class=\"dataframe\">\n",
       "  <thead>\n",
       "    <tr style=\"text-align: right;\">\n",
       "      <th></th>\n",
       "      <th>Unnamed: 0</th>\n",
       "      <th>Eldon Base for stackable storage shelf, platinum</th>\n",
       "      <th>Muhammed MacIntyre</th>\n",
       "      <th>3</th>\n",
       "      <th>-213.25</th>\n",
       "      <th>38.94</th>\n",
       "      <th>35</th>\n",
       "      <th>Nunavut</th>\n",
       "      <th>Storage &amp; Organization</th>\n",
       "      <th>0.8</th>\n",
       "    </tr>\n",
       "  </thead>\n",
       "  <tbody>\n",
       "    <tr>\n",
       "      <td>0</td>\n",
       "      <td>1</td>\n",
       "      <td>1.7 Cubic Foot Compact \"Cube\" Office Refrigera...</td>\n",
       "      <td>Barry French</td>\n",
       "      <td>293</td>\n",
       "      <td>457.8100</td>\n",
       "      <td>208.16</td>\n",
       "      <td>68.02</td>\n",
       "      <td>Nunavut</td>\n",
       "      <td>Appliances</td>\n",
       "      <td>0.58</td>\n",
       "    </tr>\n",
       "    <tr>\n",
       "      <td>1</td>\n",
       "      <td>2</td>\n",
       "      <td>Cardinal Slant-D® Ring Binder, Heavy Gauge Vinyl</td>\n",
       "      <td>Barry French</td>\n",
       "      <td>293</td>\n",
       "      <td>46.7075</td>\n",
       "      <td>8.69</td>\n",
       "      <td>2.99</td>\n",
       "      <td>Nunavut</td>\n",
       "      <td>Binders and Binder Accessories</td>\n",
       "      <td>0.39</td>\n",
       "    </tr>\n",
       "    <tr>\n",
       "      <td>2</td>\n",
       "      <td>3</td>\n",
       "      <td>R380</td>\n",
       "      <td>Clay Rozendal</td>\n",
       "      <td>483</td>\n",
       "      <td>1198.9710</td>\n",
       "      <td>195.99</td>\n",
       "      <td>3.99</td>\n",
       "      <td>Nunavut</td>\n",
       "      <td>Telephones and Communication</td>\n",
       "      <td>0.58</td>\n",
       "    </tr>\n",
       "    <tr>\n",
       "      <td>3</td>\n",
       "      <td>4</td>\n",
       "      <td>Holmes HEPA Air Purifier</td>\n",
       "      <td>Carlos Soltero</td>\n",
       "      <td>515</td>\n",
       "      <td>30.9400</td>\n",
       "      <td>21.78</td>\n",
       "      <td>5.94</td>\n",
       "      <td>Nunavut</td>\n",
       "      <td>Appliances</td>\n",
       "      <td>0.50</td>\n",
       "    </tr>\n",
       "    <tr>\n",
       "      <td>4</td>\n",
       "      <td>5</td>\n",
       "      <td>G.E. Longer-Life Indoor Recessed Floodlight Bulbs</td>\n",
       "      <td>Carlos Soltero</td>\n",
       "      <td>515</td>\n",
       "      <td>4.4300</td>\n",
       "      <td>6.64</td>\n",
       "      <td>4.95</td>\n",
       "      <td>Nunavut</td>\n",
       "      <td>Office Furnishings</td>\n",
       "      <td>0.37</td>\n",
       "    </tr>\n",
       "    <tr>\n",
       "      <td>5</td>\n",
       "      <td>6</td>\n",
       "      <td>Angle-D Binders with Locking Rings, Label Holders</td>\n",
       "      <td>Carl Jackson</td>\n",
       "      <td>613</td>\n",
       "      <td>-54.0385</td>\n",
       "      <td>7.30</td>\n",
       "      <td>7.72</td>\n",
       "      <td>Nunavut</td>\n",
       "      <td>Binders and Binder Accessories</td>\n",
       "      <td>0.38</td>\n",
       "    </tr>\n",
       "    <tr>\n",
       "      <td>6</td>\n",
       "      <td>7</td>\n",
       "      <td>SAFCO Mobile Desk Side File, Wire Frame</td>\n",
       "      <td>Carl Jackson</td>\n",
       "      <td>613</td>\n",
       "      <td>127.7000</td>\n",
       "      <td>42.76</td>\n",
       "      <td>6.22</td>\n",
       "      <td>Nunavut</td>\n",
       "      <td>Storage &amp; Organization</td>\n",
       "      <td>NaN</td>\n",
       "    </tr>\n",
       "    <tr>\n",
       "      <td>7</td>\n",
       "      <td>8</td>\n",
       "      <td>SAFCO Commercial Wire Shelving, Black</td>\n",
       "      <td>Monica Federle</td>\n",
       "      <td>643</td>\n",
       "      <td>-695.2600</td>\n",
       "      <td>138.14</td>\n",
       "      <td>35.00</td>\n",
       "      <td>Nunavut</td>\n",
       "      <td>Storage &amp; Organization</td>\n",
       "      <td>NaN</td>\n",
       "    </tr>\n",
       "    <tr>\n",
       "      <td>8</td>\n",
       "      <td>9</td>\n",
       "      <td>Xerox 198</td>\n",
       "      <td>Dorothy Badders</td>\n",
       "      <td>678</td>\n",
       "      <td>-226.3600</td>\n",
       "      <td>4.98</td>\n",
       "      <td>8.33</td>\n",
       "      <td>Nunavut</td>\n",
       "      <td>Paper</td>\n",
       "      <td>0.38</td>\n",
       "    </tr>\n",
       "  </tbody>\n",
       "</table>\n",
       "</div>"
      ],
      "text/plain": [
       "   Unnamed: 0   Eldon Base for stackable storage shelf, platinum  \\\n",
       "0           1  1.7 Cubic Foot Compact \"Cube\" Office Refrigera...   \n",
       "1           2   Cardinal Slant-D® Ring Binder, Heavy Gauge Vinyl   \n",
       "2           3                                               R380   \n",
       "3           4                           Holmes HEPA Air Purifier   \n",
       "4           5  G.E. Longer-Life Indoor Recessed Floodlight Bulbs   \n",
       "5           6  Angle-D Binders with Locking Rings, Label Holders   \n",
       "6           7            SAFCO Mobile Desk Side File, Wire Frame   \n",
       "7           8              SAFCO Commercial Wire Shelving, Black   \n",
       "8           9                                          Xerox 198   \n",
       "\n",
       "  Muhammed MacIntyre    3    -213.25   38.94     35  Nunavut  \\\n",
       "0       Barry French  293   457.8100  208.16  68.02  Nunavut   \n",
       "1       Barry French  293    46.7075    8.69   2.99  Nunavut   \n",
       "2      Clay Rozendal  483  1198.9710  195.99   3.99  Nunavut   \n",
       "3     Carlos Soltero  515    30.9400   21.78   5.94  Nunavut   \n",
       "4     Carlos Soltero  515     4.4300    6.64   4.95  Nunavut   \n",
       "5       Carl Jackson  613   -54.0385    7.30   7.72  Nunavut   \n",
       "6       Carl Jackson  613   127.7000   42.76   6.22  Nunavut   \n",
       "7     Monica Federle  643  -695.2600  138.14  35.00  Nunavut   \n",
       "8    Dorothy Badders  678  -226.3600    4.98   8.33  Nunavut   \n",
       "\n",
       "           Storage & Organization   0.8  \n",
       "0                      Appliances  0.58  \n",
       "1  Binders and Binder Accessories  0.39  \n",
       "2    Telephones and Communication  0.58  \n",
       "3                      Appliances  0.50  \n",
       "4              Office Furnishings  0.37  \n",
       "5  Binders and Binder Accessories  0.38  \n",
       "6          Storage & Organization   NaN  \n",
       "7          Storage & Organization   NaN  \n",
       "8                           Paper  0.38  "
      ]
     },
     "execution_count": 24,
     "metadata": {},
     "output_type": "execute_result"
    }
   ],
   "source": [
    "df1"
   ]
  },
  {
   "cell_type": "code",
   "execution_count": 25,
   "metadata": {},
   "outputs": [
    {
     "data": {
      "text/html": [
       "<div>\n",
       "<style scoped>\n",
       "    .dataframe tbody tr th:only-of-type {\n",
       "        vertical-align: middle;\n",
       "    }\n",
       "\n",
       "    .dataframe tbody tr th {\n",
       "        vertical-align: top;\n",
       "    }\n",
       "\n",
       "    .dataframe thead th {\n",
       "        text-align: right;\n",
       "    }\n",
       "</style>\n",
       "<table border=\"1\" class=\"dataframe\">\n",
       "  <thead>\n",
       "    <tr style=\"text-align: right;\">\n",
       "      <th></th>\n",
       "      <th>10</th>\n",
       "      <th>Xerox 1980</th>\n",
       "      <th>Neola Schneider</th>\n",
       "      <th>807</th>\n",
       "      <th>-166.85</th>\n",
       "      <th>4.28</th>\n",
       "      <th>6.18</th>\n",
       "      <th>Nunavut</th>\n",
       "      <th>Paper</th>\n",
       "      <th>0.4</th>\n",
       "    </tr>\n",
       "  </thead>\n",
       "  <tbody>\n",
       "    <tr>\n",
       "      <td>0</td>\n",
       "      <td>1</td>\n",
       "      <td>Advantus Map Pennant Flags and Round Head Tacks</td>\n",
       "      <td>Neola Schneider</td>\n",
       "      <td>807</td>\n",
       "      <td>-14.330</td>\n",
       "      <td>3.95</td>\n",
       "      <td>2.00</td>\n",
       "      <td>Nunavut</td>\n",
       "      <td>Rubber Bands</td>\n",
       "      <td>0.53</td>\n",
       "    </tr>\n",
       "    <tr>\n",
       "      <td>1</td>\n",
       "      <td>1</td>\n",
       "      <td>Holmes HEPA Air Purifier</td>\n",
       "      <td>Carlos Daly</td>\n",
       "      <td>868</td>\n",
       "      <td>134.720</td>\n",
       "      <td>21.78</td>\n",
       "      <td>5.94</td>\n",
       "      <td>Nunavut</td>\n",
       "      <td>Appliances</td>\n",
       "      <td>0.50</td>\n",
       "    </tr>\n",
       "    <tr>\n",
       "      <td>2</td>\n",
       "      <td>1</td>\n",
       "      <td>DS/HD IBM Formatted Diskettes, 200/Pack - Staples</td>\n",
       "      <td>Carlos Daly</td>\n",
       "      <td>868</td>\n",
       "      <td>114.460</td>\n",
       "      <td>47.98</td>\n",
       "      <td>3.61</td>\n",
       "      <td>Nunavut</td>\n",
       "      <td>Computer Peripherals</td>\n",
       "      <td>0.71</td>\n",
       "    </tr>\n",
       "    <tr>\n",
       "      <td>3</td>\n",
       "      <td>1</td>\n",
       "      <td>Wilson Jones 1\" Hanging DublLock® Ring Binders</td>\n",
       "      <td>Claudia Miner</td>\n",
       "      <td>933</td>\n",
       "      <td>-4.715</td>\n",
       "      <td>5.28</td>\n",
       "      <td>2.99</td>\n",
       "      <td>Nunavut</td>\n",
       "      <td>Binders and Binder Accessories</td>\n",
       "      <td>0.37</td>\n",
       "    </tr>\n",
       "    <tr>\n",
       "      <td>4</td>\n",
       "      <td>1</td>\n",
       "      <td>Ultra Commercial Grade Dual Valve Door Closer</td>\n",
       "      <td>Neola Schneider</td>\n",
       "      <td>995</td>\n",
       "      <td>782.910</td>\n",
       "      <td>39.89</td>\n",
       "      <td>3.04</td>\n",
       "      <td>Nunavut</td>\n",
       "      <td>Office Furnishings</td>\n",
       "      <td>0.53</td>\n",
       "    </tr>\n",
       "    <tr>\n",
       "      <td>5</td>\n",
       "      <td>1</td>\n",
       "      <td>#10-4 1/8\" x 9 1/2\" Premium Diagonal Seam Enve...</td>\n",
       "      <td>Allen Rosenblatt</td>\n",
       "      <td>998</td>\n",
       "      <td>93.800</td>\n",
       "      <td>15.74</td>\n",
       "      <td>1.39</td>\n",
       "      <td>Nunavut</td>\n",
       "      <td>Envelopes</td>\n",
       "      <td>0.40</td>\n",
       "    </tr>\n",
       "    <tr>\n",
       "      <td>6</td>\n",
       "      <td>1</td>\n",
       "      <td>Hon 4-Shelf Metal Bookcases</td>\n",
       "      <td>Sylvia Foulston</td>\n",
       "      <td>1154</td>\n",
       "      <td>440.720</td>\n",
       "      <td>100.98</td>\n",
       "      <td>26.22</td>\n",
       "      <td>Nunavut</td>\n",
       "      <td>Bookcases</td>\n",
       "      <td>0.60</td>\n",
       "    </tr>\n",
       "    <tr>\n",
       "      <td>7</td>\n",
       "      <td>1</td>\n",
       "      <td>Lesro Sheffield Collection Coffee Table, End T...</td>\n",
       "      <td>Sylvia Foulston</td>\n",
       "      <td>1154</td>\n",
       "      <td>-481.041</td>\n",
       "      <td>71.37</td>\n",
       "      <td>69.00</td>\n",
       "      <td>Nunavut</td>\n",
       "      <td>Tables</td>\n",
       "      <td>0.68</td>\n",
       "    </tr>\n",
       "    <tr>\n",
       "      <td>8</td>\n",
       "      <td>1</td>\n",
       "      <td>g520</td>\n",
       "      <td>Jim Radford</td>\n",
       "      <td>1344</td>\n",
       "      <td>-11.682</td>\n",
       "      <td>65.99</td>\n",
       "      <td>5.26</td>\n",
       "      <td>Nunavut</td>\n",
       "      <td>Telephones and Communication</td>\n",
       "      <td>0.59</td>\n",
       "    </tr>\n",
       "  </tbody>\n",
       "</table>\n",
       "</div>"
      ],
      "text/plain": [
       "   10                                         Xerox 1980   Neola Schneider  \\\n",
       "0   1    Advantus Map Pennant Flags and Round Head Tacks   Neola Schneider   \n",
       "1   1                           Holmes HEPA Air Purifier       Carlos Daly   \n",
       "2   1  DS/HD IBM Formatted Diskettes, 200/Pack - Staples       Carlos Daly   \n",
       "3   1     Wilson Jones 1\" Hanging DublLock® Ring Binders     Claudia Miner   \n",
       "4   1      Ultra Commercial Grade Dual Valve Door Closer   Neola Schneider   \n",
       "5   1  #10-4 1/8\" x 9 1/2\" Premium Diagonal Seam Enve...  Allen Rosenblatt   \n",
       "6   1                        Hon 4-Shelf Metal Bookcases   Sylvia Foulston   \n",
       "7   1  Lesro Sheffield Collection Coffee Table, End T...   Sylvia Foulston   \n",
       "8   1                                               g520       Jim Radford   \n",
       "\n",
       "    807  -166.85    4.28   6.18  Nunavut                           Paper   0.4  \n",
       "0   807  -14.330    3.95   2.00  Nunavut                    Rubber Bands  0.53  \n",
       "1   868  134.720   21.78   5.94  Nunavut                      Appliances  0.50  \n",
       "2   868  114.460   47.98   3.61  Nunavut            Computer Peripherals  0.71  \n",
       "3   933   -4.715    5.28   2.99  Nunavut  Binders and Binder Accessories  0.37  \n",
       "4   995  782.910   39.89   3.04  Nunavut              Office Furnishings  0.53  \n",
       "5   998   93.800   15.74   1.39  Nunavut                       Envelopes  0.40  \n",
       "6  1154  440.720  100.98  26.22  Nunavut                       Bookcases  0.60  \n",
       "7  1154 -481.041   71.37  69.00  Nunavut                          Tables  0.68  \n",
       "8  1344  -11.682   65.99   5.26  Nunavut    Telephones and Communication  0.59  "
      ]
     },
     "execution_count": 25,
     "metadata": {},
     "output_type": "execute_result"
    }
   ],
   "source": [
    "df2"
   ]
  },
  {
   "cell_type": "code",
   "execution_count": 26,
   "metadata": {},
   "outputs": [],
   "source": [
    "from scipy.io import loadmat"
   ]
  },
  {
   "cell_type": "code",
   "execution_count": 27,
   "metadata": {},
   "outputs": [],
   "source": [
    "x=loadmat('MatlabTest.mat')"
   ]
  },
  {
   "cell_type": "code",
   "execution_count": 28,
   "metadata": {},
   "outputs": [
    {
     "data": {
      "text/plain": [
       "{'__header__': b'MATLAB 5.0 MAT-file Platform: posix, Created on: Sun Jun 18 12:46:39 2017',\n",
       " '__version__': '1.0',\n",
       " '__globals__': [],\n",
       " 'data': array([[['a', '1'],\n",
       "         ['b', '2']]], dtype='<U1')}"
      ]
     },
     "execution_count": 28,
     "metadata": {},
     "output_type": "execute_result"
    }
   ],
   "source": [
    "x"
   ]
  },
  {
   "cell_type": "code",
   "execution_count": 29,
   "metadata": {},
   "outputs": [
    {
     "data": {
      "text/plain": [
       "array([[['a', '1'],\n",
       "        ['b', '2']]], dtype='<U1')"
      ]
     },
     "execution_count": 29,
     "metadata": {},
     "output_type": "execute_result"
    }
   ],
   "source": [
    "x['data']"
   ]
  },
  {
   "cell_type": "code",
   "execution_count": 30,
   "metadata": {},
   "outputs": [],
   "source": [
    "import sqlite3"
   ]
  },
  {
   "cell_type": "code",
   "execution_count": 31,
   "metadata": {},
   "outputs": [],
   "source": [
    "conn=sqlite3.connect('SqliteTestDb.db')"
   ]
  },
  {
   "cell_type": "code",
   "execution_count": 34,
   "metadata": {},
   "outputs": [
    {
     "data": {
      "text/plain": [
       "<sqlite3.Cursor at 0x25989a350a0>"
      ]
     },
     "execution_count": 34,
     "metadata": {},
     "output_type": "execute_result"
    }
   ],
   "source": [
    "curr=conn.cursor()\n",
    "curr.execute(\"select * from employees\")"
   ]
  },
  {
   "cell_type": "code",
   "execution_count": 38,
   "metadata": {},
   "outputs": [],
   "source": [
    "rows=curr.fetchall()\n",
    "for row in rows :\n",
    "    print(row)"
   ]
  },
  {
   "cell_type": "code",
   "execution_count": 39,
   "metadata": {},
   "outputs": [],
   "source": [
    "import requests"
   ]
  },
  {
   "cell_type": "code",
   "execution_count": 40,
   "metadata": {},
   "outputs": [],
   "source": [
    "html_url='https://www.google.com'\n",
    "res=requests.get(html_url)"
   ]
  },
  {
   "cell_type": "code",
   "execution_count": 41,
   "metadata": {},
   "outputs": [],
   "source": [
    "htmldata=res.text"
   ]
  },
  {
   "cell_type": "code",
   "execution_count": 42,
   "metadata": {},
   "outputs": [
    {
     "data": {
      "text/plain": [
       "'<!doctype html><html itemscope=\"\" itemtype=\"http://schema.org/WebPage\" lang=\"en-IN\"><head><meta content=\"text/html; charset=UTF-8\" http-equiv=\"Content-Type\"><meta content=\"/images/branding/googleg/1x/googleg_standard_color_128dp.png\" itemprop=\"image\"><title>Google</title><script nonce=\"ff6SKTCL4UdOafaclf+f0A==\">(function(){window.google={kEI:\\'qObUXuboJvnA3LUPrfymGA\\',kEXPI:\\'0,202123,3,4,32,1151585,5662,730,224,5104,207,3204,10,1226,364,1499,239,337,209,32,383,246,5,959,395,505,48,170,315,654,2,1218,331,635,3,416,154,136,149,1123030,1197720,429,78,329040,1294,12383,4855,32692,15247,867,28684,9188,8384,4858,1362,9290,3030,3888,850,2646,8387,1808,4020,978,4784,1,3146,5297,2054,920,873,1217,8989,1,415,1141,7512,350,2303,3222,235,4281,1397,1381,520,399,2277,8,2796,885,708,1279,2212,241,289,149,1103,840,517,1139,1,277,105,158,4100,312,1132,4,3,2063,606,1839,184,544,1376,377,1947,2229,93,328,1284,16,2927,2247,473,1339,29,719,1039,3227,1990,855,7,4774,1294,6286,4454,642,2450,2458,1226,1743,2036,1618,1382,1712,1142,553,908,2,941,532,440,1642,881,1516,2896,2523,2051,840,1337,1098,3,346,230,970,865,7,366,3545,707,148,189,3313,502,1,1985,28,130,1,2093,1803,2186,996,31,74,643,4,1528,17,925,1362,1236,271,874,395,2,8,42,1818,445,1650,189,142,41,800,580,337,52,214,1071,37,94,1884,43,77,1223,212,499,641,630,814,739,157,587,170,84,424,795,11,767,14,86,3,584,21,5,1120,787,226,11,270,256,1139,356,24,86,195,443,90,95,1194,119,369,203,132,2,112,774,82,177,32,675,53,1,1,63,1,222,23,12,246,1727,47,368,115,444,1021,12,5806378,3408,1802486,6996022,549,333,444,1,2,80,1,900,896,1,8,1,2,2551,1,748,141,59,736,563,1,4265,1,1,1,1,137,1,879,9,305,1401,3,1025,12,45,22,1,44,7,3389718,20572126,40,2682692\\',kBL:\\'ocLG\\'};google.sn=\\'webhp\\';google.kHL=\\'en-IN\\';})();(function(){google.lc=[];google.li=0;google.getEI=function(a){for(var c;a&&(!a.getAttribute||!(c=a.getAttribute(\"eid\")));)a=a.parentNode;return c||google.kEI};google.getLEI=function(a){for(var c=null;a&&(!a.getAttribute||!(c=a.getAttribute(\"leid\")));)a=a.parentNode;return c};google.ml=function(){return null};google.time=function(){return Date.now()};google.log=function(a,c,b,d,g){if(b=google.logUrl(a,c,b,d,g)){a=new Image;var e=google.lc,f=google.li;e[f]=a;a.onerror=a.onload=a.onabort=function(){delete e[f]};google.vel&&google.vel.lu&&google.vel.lu(b);a.src=b;google.li=f+1}};google.logUrl=function(a,c,b,d,g){var e=\"\",f=google.ls||\"\";b||-1!=c.search(\"&ei=\")||(e=\"&ei=\"+google.getEI(d),-1==c.search(\"&lei=\")&&(d=google.getLEI(d))&&(e+=\"&lei=\"+d));d=\"\";!b&&google.cshid&&-1==c.search(\"&cshid=\")&&\"slh\"!=a&&(d=\"&cshid=\"+google.cshid);b=b||\"/\"+(g||\"gen_204\")+\"?atyp=i&ct=\"+a+\"&cad=\"+c+e+f+\"&zx=\"+google.time()+d;/^http:/i.test(b)&&\"https:\"==window.location.protocol&&(google.ml(Error(\"a\"),!1,{src:b,glmm:1}),b=\"\");return b};}).call(this);(function(){google.y={};google.x=function(a,b){if(a)var c=a.id;else{do c=Math.random();while(google.y[c])}google.y[c]=[a,b];return!1};google.lm=[];google.plm=function(a){google.lm.push.apply(google.lm,a)};google.lq=[];google.load=function(a,b,c){google.lq.push([[a],b,c])};google.loadAll=function(a,b){google.lq.push([a,b])};}).call(this);google.f={};(function(){\\ndocument.documentElement.addEventListener(\"submit\",function(b){var a;if(a=b.target){var c=a.getAttribute(\"data-submitfalse\");a=\"1\"==c||\"q\"==c&&!a.elements.q.value?!0:!1}else a=!1;a&&(b.preventDefault(),b.stopPropagation())},!0);document.documentElement.addEventListener(\"click\",function(b){var a;a:{for(a=b.target;a&&a!=document.documentElement;a=a.parentElement)if(\"A\"==a.tagName){a=\"1\"==a.getAttribute(\"data-nohref\");break a}a=!1}a&&b.preventDefault()},!0);}).call(this);\\nvar a=window.location,b=a.href.indexOf(\"#\");if(0<=b){var c=a.href.substring(b+1);/(^|&)q=/.test(c)&&-1==c.indexOf(\"#\")&&a.replace(\"/search?\"+c.replace(/(^|&)fp=[^&]*/g,\"\")+\"&cad=h\")};</script><style>#gbar,#guser{font-size:13px;padding-top:1px !important;}#gbar{height:22px}#guser{padding-bottom:7px !important;text-align:right}.gbh,.gbd{border-top:1px solid #c9d7f1;font-size:1px}.gbh{height:0;position:absolute;top:24px;width:100%}@media all{.gb1{height:22px;margin-right:.5em;vertical-align:top}#gbar{float:left}}a.gb1,a.gb4{text-decoration:underline !important}a.gb1,a.gb4{color:#00c !important}.gbi .gb4{color:#dd8e27 !important}.gbf .gb4{color:#900 !important}\\n</style><style>body,td,a,p,.h{font-family:arial,sans-serif}body{margin:0;overflow-y:scroll}#gog{padding:3px 8px 0}td{line-height:.8em}.gac_m td{line-height:17px}form{margin-bottom:20px}.h{color:#36c}.q{color:#00c}.ts td{padding:0}.ts{border-collapse:collapse}em{font-weight:bold;font-style:normal}.lst{height:25px;width:496px}.gsfi,.lst{font:18px arial,sans-serif}.gsfs{font:17px arial,sans-serif}.ds{display:inline-box;display:inline-block;margin:3px 0 4px;margin-left:4px}input{font-family:inherit}body{background:#fff;color:#000}a{color:#11c;text-decoration:none}a:hover,a:active{text-decoration:underline}.fl a{color:#36c}a:visited{color:#551a8b}.sblc{padding-top:5px}.sblc a{display:block;margin:2px 0;margin-left:13px;font-size:11px}.lsbb{background:#eee;border:solid 1px;border-color:#ccc #999 #999 #ccc;height:30px}.lsbb{display:block}.ftl,#fll a{display:inline-block;margin:0 12px}.lsb{background:url(/images/nav_logo229.png) 0 -261px repeat-x;border:none;color:#000;cursor:pointer;height:30px;margin:0;outline:0;font:15px arial,sans-serif;vertical-align:top}.lsb:active{background:#ccc}.lst:focus{outline:none}</style><script nonce=\"ff6SKTCL4UdOafaclf+f0A==\"></script></head><body bgcolor=\"#fff\"><script nonce=\"ff6SKTCL4UdOafaclf+f0A==\">(function(){var src=\\'/images/nav_logo229.png\\';var iesg=false;document.body.onload = function(){window.n && window.n();if (document.images){new Image().src=src;}\\nif (!iesg){document.f&&document.f.q.focus();document.gbqf&&document.gbqf.q.focus();}\\n}\\n})();</script><div id=\"mngb\"> <div id=gbar><nobr><b class=gb1>Search</b> <a class=gb1 href=\"https://www.google.co.in/imghp?hl=en&tab=wi\">Images</a> <a class=gb1 href=\"https://maps.google.co.in/maps?hl=en&tab=wl\">Maps</a> <a class=gb1 href=\"https://play.google.com/?hl=en&tab=w8\">Play</a> <a class=gb1 href=\"https://www.youtube.com/?gl=IN&tab=w1\">YouTube</a> <a class=gb1 href=\"https://news.google.co.in/nwshp?hl=en&tab=wn\">News</a> <a class=gb1 href=\"https://mail.google.com/mail/?tab=wm\">Gmail</a> <a class=gb1 href=\"https://drive.google.com/?tab=wo\">Drive</a> <a class=gb1 style=\"text-decoration:none\" href=\"https://www.google.co.in/intl/en/about/products?tab=wh\"><u>More</u> &raquo;</a></nobr></div><div id=guser width=100%><nobr><span id=gbn class=gbi></span><span id=gbf class=gbf></span><span id=gbe></span><a href=\"http://www.google.co.in/history/optout?hl=en\" class=gb4>Web History</a> | <a  href=\"/preferences?hl=en\" class=gb4>Settings</a> | <a target=_top id=gb_70 href=\"https://accounts.google.com/ServiceLogin?hl=en&passive=true&continue=https://www.google.com/\" class=gb4>Sign in</a></nobr></div><div class=gbh style=left:0></div><div class=gbh style=right:0></div> </div><center><br clear=\"all\" id=\"lgpd\"><div id=\"lga\"><img alt=\"Google\" height=\"92\" src=\"/images/branding/googlelogo/1x/googlelogo_white_background_color_272x92dp.png\" style=\"padding:28px 0 14px\" width=\"272\" id=\"hplogo\"><br><br></div><form action=\"/search\" name=\"f\"><table cellpadding=\"0\" cellspacing=\"0\"><tr valign=\"top\"><td width=\"25%\">&nbsp;</td><td align=\"center\" nowrap=\"\"><input name=\"ie\" value=\"ISO-8859-1\" type=\"hidden\"><input value=\"en-IN\" name=\"hl\" type=\"hidden\"><input name=\"source\" type=\"hidden\" value=\"hp\"><input name=\"biw\" type=\"hidden\"><input name=\"bih\" type=\"hidden\"><div class=\"ds\" style=\"height:32px;margin:4px 0\"><input class=\"lst\" style=\"margin:0;padding:5px 8px 0 6px;vertical-align:top;color:#000\" autocomplete=\"off\" value=\"\" title=\"Google Search\" maxlength=\"2048\" name=\"q\" size=\"57\"></div><br style=\"line-height:0\"><span class=\"ds\"><span class=\"lsbb\"><input class=\"lsb\" value=\"Google Search\" name=\"btnG\" type=\"submit\"></span></span><span class=\"ds\"><span class=\"lsbb\"><input class=\"lsb\" id=\"tsuid1\" value=\"I\\'m Feeling Lucky\" name=\"btnI\" type=\"submit\"><script nonce=\"ff6SKTCL4UdOafaclf+f0A==\">(function(){var id=\\'tsuid1\\';document.getElementById(id).onclick = function(){if (this.form.q.value){this.checked = 1;if (this.form.iflsig)this.form.iflsig.disabled = false;}\\nelse top.location=\\'/doodles/\\';};})();</script><input value=\"AINFCbYAAAAAXtT0uEryHLAsxA95c4QGxyk5DFvEiLui\" name=\"iflsig\" type=\"hidden\"></span></span></td><td class=\"fl sblc\" align=\"left\" nowrap=\"\" width=\"25%\"><a href=\"/advanced_search?hl=en-IN&amp;authuser=0\">Advanced search</a></td></tr></table><input id=\"gbv\" name=\"gbv\" type=\"hidden\" value=\"1\"><script nonce=\"ff6SKTCL4UdOafaclf+f0A==\">(function(){var a,b=\"1\";if(document&&document.getElementById)if(\"undefined\"!=typeof XMLHttpRequest)b=\"2\";else if(\"undefined\"!=typeof ActiveXObject){var c,d,e=[\"MSXML2.XMLHTTP.6.0\",\"MSXML2.XMLHTTP.3.0\",\"MSXML2.XMLHTTP\",\"Microsoft.XMLHTTP\"];for(c=0;d=e[c++];)try{new ActiveXObject(d),b=\"2\"}catch(h){}}a=b;if(\"2\"==a&&-1==location.search.indexOf(\"&gbv=2\")){var f=google.gbvu,g=document.getElementById(\"gbv\");g&&(g.value=a);f&&window.setTimeout(function(){location.href=f},0)};}).call(this);</script></form><div id=\"gac_scont\"></div><div style=\"font-size:83%;min-height:3.5em\"><br><div id=\"gws-output-pages-elements-homepage_additional_languages__als\"><style>#gws-output-pages-elements-homepage_additional_languages__als{font-size:small;margin-bottom:24px}#SIvCob{display:inline-block;line-height:28px;}#SIvCob a{padding:0 3px;}.H6sW5{display:inline-block;margin:0 2px;white-space:nowrap}.z4hgWe{display:inline-block;margin:0 2px}</style><div id=\"SIvCob\">Google offered in:  <a href=\"https://www.google.com/setprefs?sig=0_MWuyFkB2JDtYmstqeHSGwF_OC8Y%3D&amp;hl=hi&amp;source=homepage&amp;sa=X&amp;ved=0ahUKEwjm3MrkweDpAhV5ILcAHS2-CQMQ2ZgBCAU\">&#2361;&#2367;&#2344;&#2381;&#2342;&#2368;</a>    <a href=\"https://www.google.com/setprefs?sig=0_MWuyFkB2JDtYmstqeHSGwF_OC8Y%3D&amp;hl=bn&amp;source=homepage&amp;sa=X&amp;ved=0ahUKEwjm3MrkweDpAhV5ILcAHS2-CQMQ2ZgBCAY\">&#2476;&#2494;&#2434;&#2482;&#2494;</a>    <a href=\"https://www.google.com/setprefs?sig=0_MWuyFkB2JDtYmstqeHSGwF_OC8Y%3D&amp;hl=te&amp;source=homepage&amp;sa=X&amp;ved=0ahUKEwjm3MrkweDpAhV5ILcAHS2-CQMQ2ZgBCAc\">&#3108;&#3142;&#3122;&#3137;&#3095;&#3137;</a>    <a href=\"https://www.google.com/setprefs?sig=0_MWuyFkB2JDtYmstqeHSGwF_OC8Y%3D&amp;hl=mr&amp;source=homepage&amp;sa=X&amp;ved=0ahUKEwjm3MrkweDpAhV5ILcAHS2-CQMQ2ZgBCAg\">&#2350;&#2352;&#2366;&#2336;&#2368;</a>    <a href=\"https://www.google.com/setprefs?sig=0_MWuyFkB2JDtYmstqeHSGwF_OC8Y%3D&amp;hl=ta&amp;source=homepage&amp;sa=X&amp;ved=0ahUKEwjm3MrkweDpAhV5ILcAHS2-CQMQ2ZgBCAk\">&#2980;&#2990;&#3007;&#2996;&#3021;</a>    <a href=\"https://www.google.com/setprefs?sig=0_MWuyFkB2JDtYmstqeHSGwF_OC8Y%3D&amp;hl=gu&amp;source=homepage&amp;sa=X&amp;ved=0ahUKEwjm3MrkweDpAhV5ILcAHS2-CQMQ2ZgBCAo\">&#2711;&#2753;&#2716;&#2736;&#2750;&#2724;&#2752;</a>    <a href=\"https://www.google.com/setprefs?sig=0_MWuyFkB2JDtYmstqeHSGwF_OC8Y%3D&amp;hl=kn&amp;source=homepage&amp;sa=X&amp;ved=0ahUKEwjm3MrkweDpAhV5ILcAHS2-CQMQ2ZgBCAs\">&#3221;&#3240;&#3277;&#3240;&#3233;</a>    <a href=\"https://www.google.com/setprefs?sig=0_MWuyFkB2JDtYmstqeHSGwF_OC8Y%3D&amp;hl=ml&amp;source=homepage&amp;sa=X&amp;ved=0ahUKEwjm3MrkweDpAhV5ILcAHS2-CQMQ2ZgBCAw\">&#3374;&#3378;&#3375;&#3390;&#3379;&#3330;</a>    <a href=\"https://www.google.com/setprefs?sig=0_MWuyFkB2JDtYmstqeHSGwF_OC8Y%3D&amp;hl=pa&amp;source=homepage&amp;sa=X&amp;ved=0ahUKEwjm3MrkweDpAhV5ILcAHS2-CQMQ2ZgBCA0\">&#2602;&#2672;&#2588;&#2622;&#2604;&#2624;</a>  </div></div></div><span id=\"footer\"><div style=\"font-size:10pt\"><div style=\"margin:19px auto;text-align:center\" id=\"fll\"><a href=\"/intl/en/ads/\">Advertising\\xa0Programs</a><a href=\"http://www.google.co.in/services/\">Business Solutions</a><a href=\"/intl/en/about.html\">About Google</a><a href=\"https://www.google.com/setprefdomain?prefdom=IN&amp;prev=https://www.google.co.in/&amp;sig=K_fi-ez4vH6EVGlUPONMX5KjuWU5c%3D\">Google.co.in</a></div></div><p style=\"font-size:8pt;color:#767676\">&copy; 2020 - <a href=\"/intl/en/policies/privacy/\">Privacy</a> - <a href=\"/intl/en/policies/terms/\">Terms</a></p></span></center><script nonce=\"ff6SKTCL4UdOafaclf+f0A==\">(function(){window.google.cdo={height:0,width:0};(function(){var a=window.innerWidth,b=window.innerHeight;if(!a||!b){var c=window.document,d=\"CSS1Compat\"==c.compatMode?c.documentElement:c.body;a=d.clientWidth;b=d.clientHeight}a&&b&&(a!=google.cdo.width||b!=google.cdo.height)&&google.log(\"\",\"\",\"/client_204?&atyp=i&biw=\"+a+\"&bih=\"+b+\"&ei=\"+google.kEI);}).call(this);})();(function(){var u=\\'/xjs/_/js/k\\\\x3dxjs.hp.en.utTz_VqJcz4.O/m\\\\x3dsb_he,d/am\\\\x3dAC8ENgc/d\\\\x3d1/rs\\\\x3dACT90oGQWVYAhx3pJPaMsDyozmd49_wAMA\\';\\nsetTimeout(function(){var b=document;var a=\"SCRIPT\";\"application/xhtml+xml\"===b.contentType&&(a=a.toLowerCase());a=b.createElement(a);a.src=u;google.timers&&google.timers.load&&google.tick&&google.tick(\"load\",\"xjsls\");document.body.appendChild(a)},0);})();(function(){window.google.xjsu=\\'/xjs/_/js/k\\\\x3dxjs.hp.en.utTz_VqJcz4.O/m\\\\x3dsb_he,d/am\\\\x3dAC8ENgc/d\\\\x3d1/rs\\\\x3dACT90oGQWVYAhx3pJPaMsDyozmd49_wAMA\\';})();function _DumpException(e){throw e;}\\nfunction _F_installCss(c){}\\n(function(){google.jl={em:[],emw:false,lls:\\'default\\',pdt:0,snet:true,uwp:true};})();(function(){var pmc=\\'{\\\\x22d\\\\x22:{},\\\\x22sb_he\\\\x22:{\\\\x22agen\\\\x22:true,\\\\x22cgen\\\\x22:true,\\\\x22client\\\\x22:\\\\x22heirloom-hp\\\\x22,\\\\x22dh\\\\x22:true,\\\\x22dhqt\\\\x22:true,\\\\x22ds\\\\x22:\\\\x22\\\\x22,\\\\x22ffql\\\\x22:\\\\x22en\\\\x22,\\\\x22fl\\\\x22:true,\\\\x22host\\\\x22:\\\\x22google.com\\\\x22,\\\\x22isbh\\\\x22:28,\\\\x22jsonp\\\\x22:true,\\\\x22msgs\\\\x22:{\\\\x22cibl\\\\x22:\\\\x22Clear Search\\\\x22,\\\\x22dym\\\\x22:\\\\x22Did you mean:\\\\x22,\\\\x22lcky\\\\x22:\\\\x22I\\\\\\\\u0026#39;m Feeling Lucky\\\\x22,\\\\x22lml\\\\x22:\\\\x22Learn more\\\\x22,\\\\x22oskt\\\\x22:\\\\x22Input tools\\\\x22,\\\\x22psrc\\\\x22:\\\\x22This search was removed from your \\\\\\\\u003Ca href\\\\x3d\\\\\\\\\\\\x22/history\\\\\\\\\\\\x22\\\\\\\\u003EWeb History\\\\\\\\u003C/a\\\\\\\\u003E\\\\x22,\\\\x22psrl\\\\x22:\\\\x22Remove\\\\x22,\\\\x22sbit\\\\x22:\\\\x22Search by image\\\\x22,\\\\x22srch\\\\x22:\\\\x22Google Search\\\\x22},\\\\x22ovr\\\\x22:{},\\\\x22pq\\\\x22:\\\\x22\\\\x22,\\\\x22refpd\\\\x22:true,\\\\x22rfs\\\\x22:[],\\\\x22sbpl\\\\x22:16,\\\\x22sbpr\\\\x22:16,\\\\x22scd\\\\x22:10,\\\\x22stok\\\\x22:\\\\x221mmr50o_soZ-dkGK3jR0xWCTRH8\\\\x22,\\\\x22uhde\\\\x22:false}}\\';google.pmc=JSON.parse(pmc);})();</script>        </body></html>'"
      ]
     },
     "execution_count": 42,
     "metadata": {},
     "output_type": "execute_result"
    }
   ],
   "source": [
    "htmldata"
   ]
  },
  {
   "cell_type": "code",
   "execution_count": 43,
   "metadata": {},
   "outputs": [],
   "source": [
    "from bs4 import BeautifulSoup "
   ]
  },
  {
   "cell_type": "code",
   "execution_count": 45,
   "metadata": {},
   "outputs": [],
   "source": [
    "soup=BeautifulSoup(htmldata,'html.parser')"
   ]
  },
  {
   "cell_type": "code",
   "execution_count": 46,
   "metadata": {},
   "outputs": [
    {
     "data": {
      "text/plain": [
       "'Google'"
      ]
     },
     "execution_count": 46,
     "metadata": {},
     "output_type": "execute_result"
    }
   ],
   "source": [
    "soup.find('title').string"
   ]
  },
  {
   "cell_type": "code",
   "execution_count": 55,
   "metadata": {},
   "outputs": [
    {
     "data": {
      "text/plain": [
       "<div id=\"mngb\"> <div id=\"gbar\"><nobr><b class=\"gb1\">Search</b> <a class=\"gb1\" href=\"https://www.google.co.in/imghp?hl=en&amp;tab=wi\">Images</a> <a class=\"gb1\" href=\"https://maps.google.co.in/maps?hl=en&amp;tab=wl\">Maps</a> <a class=\"gb1\" href=\"https://play.google.com/?hl=en&amp;tab=w8\">Play</a> <a class=\"gb1\" href=\"https://www.youtube.com/?gl=IN&amp;tab=w1\">YouTube</a> <a class=\"gb1\" href=\"https://news.google.co.in/nwshp?hl=en&amp;tab=wn\">News</a> <a class=\"gb1\" href=\"https://mail.google.com/mail/?tab=wm\">Gmail</a> <a class=\"gb1\" href=\"https://drive.google.com/?tab=wo\">Drive</a> <a class=\"gb1\" href=\"https://www.google.co.in/intl/en/about/products?tab=wh\" style=\"text-decoration:none\"><u>More</u> »</a></nobr></div><div id=\"guser\" width=\"100%\"><nobr><span class=\"gbi\" id=\"gbn\"></span><span class=\"gbf\" id=\"gbf\"></span><span id=\"gbe\"></span><a class=\"gb4\" href=\"http://www.google.co.in/history/optout?hl=en\">Web History</a> | <a class=\"gb4\" href=\"/preferences?hl=en\">Settings</a> | <a class=\"gb4\" href=\"https://accounts.google.com/ServiceLogin?hl=en&amp;passive=true&amp;continue=https://www.google.com/\" id=\"gb_70\" target=\"_top\">Sign in</a></nobr></div><div class=\"gbh\" style=\"left:0\"></div><div class=\"gbh\" style=\"right:0\"></div> </div>"
      ]
     },
     "execution_count": 55,
     "metadata": {},
     "output_type": "execute_result"
    }
   ],
   "source": [
    "h1=soup.find('div')\n",
    "h1"
   ]
  },
  {
   "cell_type": "code",
   "execution_count": 60,
   "metadata": {},
   "outputs": [],
   "source": [
    "json_url='https://raw.githubusercontent.com/ankit25587/test/master/test.json'"
   ]
  },
  {
   "cell_type": "code",
   "execution_count": 61,
   "metadata": {},
   "outputs": [],
   "source": [
    "res=requests.get(json_url)"
   ]
  },
  {
   "cell_type": "code",
   "execution_count": 62,
   "metadata": {},
   "outputs": [],
   "source": [
    "res.text"
   ]
  },
  {
   "cell_type": "code",
   "execution_count": 64,
   "metadata": {},
   "outputs": [
    {
     "data": {
      "text/plain": [
       "'John'"
      ]
     },
     "execution_count": 64,
     "metadata": {},
     "output_type": "execute_result"
    }
   ],
   "source": [
    "json_data=res.json()\n",
    "json_data['firstName']"
   ]
  },
  {
   "cell_type": "code",
   "execution_count": 65,
   "metadata": {},
   "outputs": [],
   "source": [
    "token='EAAEB8vFbO5EBADUZAZA8GgT9mCuv5IxuxElxpyetq2EXVte6qa2Vc9bzBsn8ZABR9BKB04NjLZClCziLmXTTK8QEVtSdMu2vldqKXd0S2sKYSr1ZB1QuReG93aWcrNVK0lpwryHONmUGLggZAm84ZBJt8vQLvpI40axE5ZC3cRo4NZAXHhopZBzZB5hhJfGKYiuEH7oaOV4ly8tS9hJVYsbNcVbZB3JpsJHURHQ81VhSZAiChJQZDZD' "
   ]
  },
  {
   "cell_type": "code",
   "execution_count": 83,
   "metadata": {},
   "outputs": [],
   "source": [
    "me='https://graph.facebook.com/v2.9/me?access_token='+token\n",
    "\n",
    "\n",
    "friend='https://graph.facebook.com/v2.9/me/friends?access_token='+token\n",
    "\n",
    "search='https://graph.facebook.com/v2.9/search?q=Mark&type=user&access_token='+token"
   ]
  },
  {
   "cell_type": "code",
   "execution_count": 84,
   "metadata": {},
   "outputs": [],
   "source": [
    "me1=requests.get(me)\n",
    "friend1=requests.get(friend)\n",
    "search1=requests.get(search)"
   ]
  },
  {
   "cell_type": "code",
   "execution_count": 85,
   "metadata": {},
   "outputs": [
    {
     "data": {
      "text/plain": [
       "'{\"name\":\"Pravleen Kaur\",\"id\":\"3131513290268245\"}'"
      ]
     },
     "execution_count": 85,
     "metadata": {},
     "output_type": "execute_result"
    }
   ],
   "source": [
    "me1.text"
   ]
  },
  {
   "cell_type": "code",
   "execution_count": 86,
   "metadata": {},
   "outputs": [
    {
     "data": {
      "text/plain": [
       "'{\"data\":[]}'"
      ]
     },
     "execution_count": 86,
     "metadata": {},
     "output_type": "execute_result"
    }
   ],
   "source": [
    "friend1.text"
   ]
  },
  {
   "cell_type": "code",
   "execution_count": 87,
   "metadata": {},
   "outputs": [
    {
     "data": {
      "text/plain": [
       "'{\"error\":{\"message\":\"Unsupported get request. Please read the Graph API documentation at https:\\\\/\\\\/developers.facebook.com\\\\/docs\\\\/graph-api\",\"type\":\"GraphMethodException\",\"code\":100,\"error_subcode\":33,\"fbtrace_id\":\"AeNhly1dGrRtBlkpdNHuCJB\"}}'"
      ]
     },
     "execution_count": 87,
     "metadata": {},
     "output_type": "execute_result"
    }
   ],
   "source": [
    "search1.text"
   ]
  },
  {
   "cell_type": "code",
   "execution_count": null,
   "metadata": {},
   "outputs": [],
   "source": []
  },
  {
   "cell_type": "code",
   "execution_count": null,
   "metadata": {},
   "outputs": [],
   "source": []
  }
 ],
 "metadata": {
  "kernelspec": {
   "display_name": "Python 3",
   "language": "python",
   "name": "python3"
  },
  "language_info": {
   "codemirror_mode": {
    "name": "ipython",
    "version": 3
   },
   "file_extension": ".py",
   "mimetype": "text/x-python",
   "name": "python",
   "nbconvert_exporter": "python",
   "pygments_lexer": "ipython3",
   "version": "3.7.4"
  }
 },
 "nbformat": 4,
 "nbformat_minor": 2
}
