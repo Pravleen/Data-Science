{
    "cells": [
        {
            "cell_type": "code",
            "execution_count": 1,
            "metadata": {},
            "outputs": [
                {
                    "data": {
                        "text/html": "<div>\n<style scoped>\n    .dataframe tbody tr th:only-of-type {\n        vertical-align: middle;\n    }\n\n    .dataframe tbody tr th {\n        vertical-align: top;\n    }\n\n    .dataframe thead th {\n        text-align: right;\n    }\n</style>\n<table border=\"1\" class=\"dataframe\">\n  <thead>\n    <tr style=\"text-align: right;\">\n      <th></th>\n      <th>Area Code</th>\n      <th>Area</th>\n      <th>Item Code</th>\n      <th>Item</th>\n      <th>Element Code</th>\n      <th>Element</th>\n      <th>Year Code</th>\n      <th>Year</th>\n      <th>Unit</th>\n      <th>Value</th>\n      <th>Flag</th>\n    </tr>\n  </thead>\n  <tbody>\n    <tr>\n      <th>0</th>\n      <td>100</td>\n      <td>India</td>\n      <td>4007</td>\n      <td>Ammonia, anhydrous</td>\n      <td>5610</td>\n      <td>Import Quantity</td>\n      <td>2002</td>\n      <td>2002</td>\n      <td>tonnes</td>\n      <td>1279348.13</td>\n      <td>Qm</td>\n    </tr>\n    <tr>\n      <th>1</th>\n      <td>100</td>\n      <td>India</td>\n      <td>4007</td>\n      <td>Ammonia, anhydrous</td>\n      <td>5610</td>\n      <td>Import Quantity</td>\n      <td>2003</td>\n      <td>2003</td>\n      <td>tonnes</td>\n      <td>979985.94</td>\n      <td>Qm</td>\n    </tr>\n    <tr>\n      <th>2</th>\n      <td>100</td>\n      <td>India</td>\n      <td>4007</td>\n      <td>Ammonia, anhydrous</td>\n      <td>5610</td>\n      <td>Import Quantity</td>\n      <td>2004</td>\n      <td>2004</td>\n      <td>tonnes</td>\n      <td>1189895.82</td>\n      <td>Qm</td>\n    </tr>\n    <tr>\n      <th>3</th>\n      <td>100</td>\n      <td>India</td>\n      <td>4007</td>\n      <td>Ammonia, anhydrous</td>\n      <td>5610</td>\n      <td>Import Quantity</td>\n      <td>2005</td>\n      <td>2005</td>\n      <td>tonnes</td>\n      <td>1731417.05</td>\n      <td>Qm</td>\n    </tr>\n    <tr>\n      <th>4</th>\n      <td>100</td>\n      <td>India</td>\n      <td>4007</td>\n      <td>Ammonia, anhydrous</td>\n      <td>5610</td>\n      <td>Import Quantity</td>\n      <td>2006</td>\n      <td>2006</td>\n      <td>tonnes</td>\n      <td>1781431.57</td>\n      <td>Qm</td>\n    </tr>\n  </tbody>\n</table>\n</div>",
                        "text/plain": "   Area Code   Area  Item Code                Item  Element Code  \\\n0        100  India       4007  Ammonia, anhydrous          5610   \n1        100  India       4007  Ammonia, anhydrous          5610   \n2        100  India       4007  Ammonia, anhydrous          5610   \n3        100  India       4007  Ammonia, anhydrous          5610   \n4        100  India       4007  Ammonia, anhydrous          5610   \n\n           Element  Year Code  Year    Unit       Value Flag  \n0  Import Quantity       2002  2002  tonnes  1279348.13   Qm  \n1  Import Quantity       2003  2003  tonnes   979985.94   Qm  \n2  Import Quantity       2004  2004  tonnes  1189895.82   Qm  \n3  Import Quantity       2005  2005  tonnes  1731417.05   Qm  \n4  Import Quantity       2006  2006  tonnes  1781431.57   Qm  "
                    },
                    "execution_count": 1,
                    "metadata": {},
                    "output_type": "execute_result"
                }
            ],
            "source": "# The code was removed by Watson Studio for sharing."
        },
        {
            "cell_type": "code",
            "execution_count": null,
            "metadata": {},
            "outputs": [],
            "source": ""
        }
    ],
    "metadata": {
        "kernelspec": {
            "display_name": "Python 3.6",
            "language": "python",
            "name": "python3"
        },
        "language_info": {
            "codemirror_mode": {
                "name": "ipython",
                "version": 3
            },
            "file_extension": ".py",
            "mimetype": "text/x-python",
            "name": "python",
            "nbconvert_exporter": "python",
            "pygments_lexer": "ipython3",
            "version": "3.6.9"
        }
    },
    "nbformat": 4,
    "nbformat_minor": 1
}