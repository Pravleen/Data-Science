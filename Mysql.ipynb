{
 "cells": [
  {
   "cell_type": "code",
   "execution_count": 1,
   "metadata": {},
   "outputs": [],
   "source": [
    "import mysql.connector as connection"
   ]
  },
  {
   "cell_type": "code",
   "execution_count": 3,
   "metadata": {},
   "outputs": [
    {
     "name": "stdout",
     "output_type": "stream",
     "text": [
      "True\n"
     ]
    }
   ],
   "source": [
    "mydb=connection.connect(host=\"localhost\",user=\"root\",passwd=\"pravleen\",use_pure=True)\n",
    "print(mydb.is_connected())\n",
    "mydb.close()"
   ]
  },
  {
   "cell_type": "code",
   "execution_count": 11,
   "metadata": {},
   "outputs": [
    {
     "name": "stdout",
     "output_type": "stream",
     "text": [
      "<class 'NoneType'>\n",
      "[('information_schema',), ('mysql',), ('performance_schema',), ('sakila',), ('sys',), ('world',)]\n"
     ]
    }
   ],
   "source": [
    "mydb=connection.connect(host=\"localhost\",user=\"root\",passwd=\"pravleen\",use_pure=True)\n",
    "query=\"SHOW DATABASES\"\n",
    "cursor=mydb.cursor()\n",
    "#print(cursor.execute(query))\n",
    "print(type(cursor.execute(query)))\n",
    "print(cursor.fetchall())\n",
    "mydb.close()"
   ]
  },
  {
   "cell_type": "code",
   "execution_count": 31,
   "metadata": {},
   "outputs": [
    {
     "name": "stdout",
     "output_type": "stream",
     "text": [
      "True\n",
      "Database created\n"
     ]
    }
   ],
   "source": [
    "# CREATE OWN DATABASE\n",
    "import mysql.connector as connection\n",
    "mydb=connection.connect(host=\"localhost\",user=\"root\",passwd=\"pravleen\",use_pure=True)\n",
    "print(mydb.is_connected())\n",
    "query=\"Create database Pravleen1;\"\n",
    "cursor=mydb.cursor()\n",
    "cursor.execute(query)\n",
    "print(\"Database created\")"
   ]
  },
  {
   "cell_type": "code",
   "execution_count": 32,
   "metadata": {},
   "outputs": [
    {
     "name": "stdout",
     "output_type": "stream",
     "text": [
      "True\n",
      "Table created\n"
     ]
    }
   ],
   "source": [
    "\n",
    "# CREATE A TABLE\n",
    "mydb=connection.connect(host=\"localhost\",database=\"Pravleen1\",user=\"root\",passwd=\"pravleen\",use_pure=True)\n",
    "print(mydb.is_connected())\n",
    "query=\"CREATE TABLE StudentDetails (Studentid INT(10) AUTO_INCREMENT PRIMARY KEY,FirstName VARCHAR(60),\" \\\n",
    "            \"LastName VARCHAR(60), RegistrationDate DATE,Class Varchar(20), Section Varchar(10))\"\n",
    "cursor=mydb.cursor()\n",
    "cursor.execute(query)\n",
    "print(\"Table created\")\n",
    "mydb.close()"
   ]
  },
  {
   "cell_type": "code",
   "execution_count": 33,
   "metadata": {},
   "outputs": [
    {
     "name": "stdout",
     "output_type": "stream",
     "text": [
      "True\n",
      "Values inserted into the table!!\n"
     ]
    }
   ],
   "source": [
    "import mysql.connector as connection\n",
    "mydb=connection.connect(host=\"localhost\",database=\"Pravleen1\",user=\"root\",passwd=\"pravleen\",use_pure=True)\n",
    "    # check if the connection is established\n",
    "print(mydb.is_connected())\n",
    "query = \"INSERT INTO StudentDetails VALUES ('1135','Sachin','Kumar','1997-11-11','Eleventh','A')\"\n",
    "cursor = mydb.cursor() #create a cursor to execute queries    cursor.execute(query)\n",
    "print(\"Values inserted into the table!!\")\n",
    "mydb.commit() #whenever we have to insert data we use commit\n",
    "mydb.close()"
   ]
  },
  {
   "cell_type": "code",
   "execution_count": 34,
   "metadata": {},
   "outputs": [
    {
     "name": "stdout",
     "output_type": "stream",
     "text": [
      "1 record inserted.\n"
     ]
    }
   ],
   "source": [
    "import mysql.connector\n",
    "\n",
    "mydb = mysql.connector.connect(\n",
    "  host=\"localhost\",\n",
    "  user=\"root\",\n",
    "  password=\"pravleen\",\n",
    "  database=\"Pravleen1\"\n",
    ")\n",
    "\n",
    "mycursor = mydb.cursor()\n",
    "\n",
    "sql = \"INSERT INTO StudentDetails VALUES ('1135','Sachin','Kumar','1997-11-11','Eleventh','A')\"\n",
    "mycursor.execute(sql)\n",
    "\n",
    "mydb.commit()\n",
    "\n",
    "print(mycursor.rowcount, \"record inserted.\")"
   ]
  },
  {
   "cell_type": "code",
   "execution_count": 36,
   "metadata": {},
   "outputs": [
    {
     "name": "stdout",
     "output_type": "stream",
     "text": [
      "True\n"
     ]
    },
    {
     "ename": "InterfaceError",
     "evalue": "No result set to fetch from.",
     "output_type": "error",
     "traceback": [
      "\u001b[1;31m---------------------------------------------------------------------------\u001b[0m",
      "\u001b[1;31mInterfaceError\u001b[0m                            Traceback (most recent call last)",
      "\u001b[1;32m<ipython-input-36-26f24599fefc>\u001b[0m in \u001b[0;36m<module>\u001b[1;34m\u001b[0m\n\u001b[0;32m      8\u001b[0m \u001b[0mmydb\u001b[0m\u001b[1;33m.\u001b[0m\u001b[0mcommit\u001b[0m\u001b[1;33m(\u001b[0m\u001b[1;33m)\u001b[0m\u001b[1;33m\u001b[0m\u001b[1;33m\u001b[0m\u001b[0m\n\u001b[0;32m      9\u001b[0m \u001b[1;31m#let's check if the value is updated in the table.\u001b[0m\u001b[1;33m\u001b[0m\u001b[1;33m\u001b[0m\u001b[1;33m\u001b[0m\u001b[0m\n\u001b[1;32m---> 10\u001b[1;33m \u001b[1;32mfor\u001b[0m \u001b[0mresult\u001b[0m \u001b[1;32min\u001b[0m \u001b[0mcursor\u001b[0m\u001b[1;33m.\u001b[0m\u001b[0mfetchall\u001b[0m\u001b[1;33m(\u001b[0m\u001b[1;33m)\u001b[0m\u001b[1;33m:\u001b[0m\u001b[1;33m\u001b[0m\u001b[1;33m\u001b[0m\u001b[0m\n\u001b[0m\u001b[0;32m     11\u001b[0m         \u001b[0mprint\u001b[0m\u001b[1;33m(\u001b[0m\u001b[0mresult\u001b[0m\u001b[1;33m)\u001b[0m\u001b[1;33m\u001b[0m\u001b[1;33m\u001b[0m\u001b[0m\n\u001b[0;32m     12\u001b[0m \u001b[0mmydb\u001b[0m\u001b[1;33m.\u001b[0m\u001b[0mclose\u001b[0m\u001b[1;33m(\u001b[0m\u001b[1;33m)\u001b[0m  \u001b[1;31m# close the connection\u001b[0m\u001b[1;33m\u001b[0m\u001b[1;33m\u001b[0m\u001b[0m\n",
      "\u001b[1;32m~\\anaconda3\\lib\\site-packages\\mysql\\connector\\cursor.py\u001b[0m in \u001b[0;36mfetchall\u001b[1;34m(self)\u001b[0m\n\u001b[0;32m    893\u001b[0m     \u001b[1;32mdef\u001b[0m \u001b[0mfetchall\u001b[0m\u001b[1;33m(\u001b[0m\u001b[0mself\u001b[0m\u001b[1;33m)\u001b[0m\u001b[1;33m:\u001b[0m\u001b[1;33m\u001b[0m\u001b[1;33m\u001b[0m\u001b[0m\n\u001b[0;32m    894\u001b[0m         \u001b[1;32mif\u001b[0m \u001b[1;32mnot\u001b[0m \u001b[0mself\u001b[0m\u001b[1;33m.\u001b[0m\u001b[0m_have_unread_result\u001b[0m\u001b[1;33m(\u001b[0m\u001b[1;33m)\u001b[0m\u001b[1;33m:\u001b[0m\u001b[1;33m\u001b[0m\u001b[1;33m\u001b[0m\u001b[0m\n\u001b[1;32m--> 895\u001b[1;33m             \u001b[1;32mraise\u001b[0m \u001b[0merrors\u001b[0m\u001b[1;33m.\u001b[0m\u001b[0mInterfaceError\u001b[0m\u001b[1;33m(\u001b[0m\u001b[1;34m\"No result set to fetch from.\"\u001b[0m\u001b[1;33m)\u001b[0m\u001b[1;33m\u001b[0m\u001b[1;33m\u001b[0m\u001b[0m\n\u001b[0m\u001b[0;32m    896\u001b[0m         \u001b[1;33m(\u001b[0m\u001b[0mrows\u001b[0m\u001b[1;33m,\u001b[0m \u001b[0meof\u001b[0m\u001b[1;33m)\u001b[0m \u001b[1;33m=\u001b[0m \u001b[0mself\u001b[0m\u001b[1;33m.\u001b[0m\u001b[0m_connection\u001b[0m\u001b[1;33m.\u001b[0m\u001b[0mget_rows\u001b[0m\u001b[1;33m(\u001b[0m\u001b[1;33m)\u001b[0m\u001b[1;33m\u001b[0m\u001b[1;33m\u001b[0m\u001b[0m\n\u001b[0;32m    897\u001b[0m         \u001b[1;32mif\u001b[0m \u001b[0mself\u001b[0m\u001b[1;33m.\u001b[0m\u001b[0m_nextrow\u001b[0m\u001b[1;33m[\u001b[0m\u001b[1;36m0\u001b[0m\u001b[1;33m]\u001b[0m\u001b[1;33m:\u001b[0m\u001b[1;33m\u001b[0m\u001b[1;33m\u001b[0m\u001b[0m\n",
      "\u001b[1;31mInterfaceError\u001b[0m: No result set to fetch from."
     ]
    }
   ],
   "source": [
    "import mysql.connector as connection\n",
    "mydb = connection.connect(host=\"localhost\", database='Pravleen1', user=\"root\", passwd=\"pravleen\", use_pure=True)\n",
    "# check if the connection is established\n",
    "print(mydb.is_connected())\n",
    "query = \"UPDATE studentdetails SET FirstName = 'Kumar', LastName = 'Sachin' WHERE Studentid = 1132\"\n",
    "cursor = mydb.cursor()  # create a cursor to execute queries\n",
    "cursor.execute(query)\n",
    "mydb.commit()\n",
    "#let's check if the value is updated in the table.\n",
    "for result in cursor.fetchall():\n",
    "        print(result)\n",
    "mydb.close()  # close the connection\n",
    "\n"
   ]
  },
  {
   "cell_type": "code",
   "execution_count": 24,
   "metadata": {},
   "outputs": [
    {
     "name": "stdout",
     "output_type": "stream",
     "text": [
      "True\n",
      "Values inserted into the table!!\n"
     ]
    }
   ],
   "source": [
    "import mysql.connector as connection\n",
    "mydb=connection.connect(host=\"localhost\",database=\"Pravleen\",user=\"root\",passwd=\"pravleen\",use_pure=True)\n",
    "    # check if the connection is established\n",
    "print(mydb.is_connected())\n",
    "query = \"INSERT INTO StudentDetails VALUES ('1136','Sachin','Kumar','1997-11-11','Eleventh','A')\"\n",
    "cursor = mydb.cursor() #create a cursor to execute queries    cursor.execute(query)\n",
    "print(\"Values inserted into the table!!\")\n",
    "mydb.commit() #whenever we have to insert data we use commit\n",
    "mydb.close()"
   ]
  },
  {
   "cell_type": "code",
   "execution_count": 27,
   "metadata": {},
   "outputs": [
    {
     "name": "stdout",
     "output_type": "stream",
     "text": [
      "True\n",
      "Values inserted into the table!!\n",
      "(1132, 'Sachin', 'Kumar', datetime.date(1997, 11, 11), 'Eleventh', 'A')\n"
     ]
    }
   ],
   "source": [
    "import mysql.connector as connection\n",
    "mydb=connection.connect(host=\"localhost\",database=\"Pravleen\",user=\"root\",passwd=\"pravleen\",use_pure=True)\n",
    "    # check if the connection is established\n",
    "print(mydb.is_connected())\n",
    "query = \"Select * from studentdetails;\"\n",
    "cursor = mydb.cursor() #create a cursor to execute queries    cursor.execute(query)\n",
    "cursor.execute(query)\n",
    "print(\"Values inserted into the table!!\")\n",
    "for result in cursor.fetchall():\n",
    "        print(result)\n",
    "mydb.commit() #whenever we have to insert data we use commit\n",
    "mydb.close()"
   ]
  },
  {
   "cell_type": "code",
   "execution_count": 37,
   "metadata": {},
   "outputs": [
    {
     "name": "stdout",
     "output_type": "stream",
     "text": [
      "True\n",
      "(1135, 'Sachin', 'Kumar', datetime.date(1997, 11, 11), 'Eleventh', 'A')\n"
     ]
    }
   ],
   "source": [
    "import mysql.connector as connection\n",
    "\n",
    "\n",
    "try:\n",
    "    mydb = connection.connect(host=\"localhost\", database = 'Pravleen1',user=\"root\", passwd=\"pravleen\",use_pure=True)\n",
    "    #check if the connection is established\n",
    "    \n",
    "    \n",
    "    query = \"Select * from studentdetails;\"\n",
    "    cursor = mydb.cursor() #create a cursor to execute queries\n",
    "    cursor.execute(query)\n",
    "    for result in cursor.fetchall():\n",
    "        print(result)\n",
    "    mydb.close() #close the connection\n",
    "\n",
    "\n",
    "except Exception as e:\n",
    "    #mydb.close()\n",
    "    print(str(e))"
   ]
  },
  {
   "cell_type": "code",
   "execution_count": 38,
   "metadata": {},
   "outputs": [],
   "source": [
    "# READ DATA USING PANDAS"
   ]
  },
  {
   "cell_type": "code",
   "execution_count": 45,
   "metadata": {},
   "outputs": [
    {
     "name": "stdout",
     "output_type": "stream",
     "text": [
      "True\n"
     ]
    }
   ],
   "source": [
    "import mysql.connector as connection\n",
    "import pandas as pandas\n",
    "\n",
    "try:\n",
    "\n",
    "    mydb = connection.connect(host=\"localhost\", database='Pravleen1', user=\"root\", passwd=\"pravleen\", use_pure=True)\n",
    "    # check if the connection is established\n",
    "    print(mydb.is_connected())\n",
    "    query = \"Select * from studentdetails;;\"\n",
    "    result_dataFrame = pandas.read_sql(query,mydb)\n",
    "    result_dataFrame\n",
    "\n",
    "    mydb.close()  # close the connection\n",
    "\n",
    "except Exception as e:\n",
    "    #mydb.close()\n",
    "    print(str(e))"
   ]
  },
  {
   "cell_type": "code",
   "execution_count": 46,
   "metadata": {},
   "outputs": [
    {
     "data": {
      "text/html": [
       "<div>\n",
       "<style scoped>\n",
       "    .dataframe tbody tr th:only-of-type {\n",
       "        vertical-align: middle;\n",
       "    }\n",
       "\n",
       "    .dataframe tbody tr th {\n",
       "        vertical-align: top;\n",
       "    }\n",
       "\n",
       "    .dataframe thead th {\n",
       "        text-align: right;\n",
       "    }\n",
       "</style>\n",
       "<table border=\"1\" class=\"dataframe\">\n",
       "  <thead>\n",
       "    <tr style=\"text-align: right;\">\n",
       "      <th></th>\n",
       "      <th>Studentid</th>\n",
       "      <th>FirstName</th>\n",
       "      <th>LastName</th>\n",
       "      <th>RegistrationDate</th>\n",
       "      <th>Class</th>\n",
       "      <th>Section</th>\n",
       "    </tr>\n",
       "  </thead>\n",
       "  <tbody>\n",
       "    <tr>\n",
       "      <th>0</th>\n",
       "      <td>1135</td>\n",
       "      <td>Sachin</td>\n",
       "      <td>Kumar</td>\n",
       "      <td>1997-11-11</td>\n",
       "      <td>Eleventh</td>\n",
       "      <td>A</td>\n",
       "    </tr>\n",
       "  </tbody>\n",
       "</table>\n",
       "</div>"
      ],
      "text/plain": [
       "   Studentid FirstName LastName RegistrationDate     Class Section\n",
       "0       1135    Sachin    Kumar       1997-11-11  Eleventh       A"
      ]
     },
     "execution_count": 46,
     "metadata": {},
     "output_type": "execute_result"
    }
   ],
   "source": [
    "result_dataFrame"
   ]
  },
  {
   "cell_type": "code",
   "execution_count": 48,
   "metadata": {},
   "outputs": [
    {
     "name": "stdout",
     "output_type": "stream",
     "text": [
      "True\n"
     ]
    }
   ],
   "source": [
    "import mysql.connector as connection\n",
    "\n",
    "try:\n",
    "\n",
    "    mydb = connection.connect(host=\"localhost\", database='Pravleen1', user=\"root\", passwd=\"pravleen\", use_pure=True)\n",
    "    # check if the connection is established\n",
    "    print(mydb.is_connected())\n",
    "    query = \"DELETE FROM studentdetails WHERE Studentid = 1135\"\n",
    "    cursor = mydb.cursor()  # create a cursor to execute queries\n",
    "    cursor.execute(query)\n",
    "    mydb.commit()\n",
    "\n",
    "    #let's check if the value is updated in the table.\n",
    "    query = \"Select * from studentdetails where Studentid=1122;\"\n",
    "    cursor = mydb.cursor()  # create a cursor to execute queries\n",
    "    cursor.execute(query)\n",
    "    for result in cursor.fetchall():\n",
    "        print(result)\n",
    "\n",
    "    mydb.close()  # close the connection\n",
    "\n",
    "except Exception as e:\n",
    "    #mydb.close()\n",
    "    print(str(e))"
   ]
  },
  {
   "cell_type": "code",
   "execution_count": 55,
   "metadata": {},
   "outputs": [
    {
     "name": "stdout",
     "output_type": "stream",
     "text": [
      "True\n",
      "Database Created!!\n",
      "Table Created!!\n",
      "Values inserted!!\n"
     ]
    }
   ],
   "source": [
    "import mysql.connector as connection\n",
    "import pandas as pandas\n",
    "import csv\n",
    "\n",
    "try:\n",
    "    mydb = connection.connect(host=\"localhost\", user=\"root\", passwd=\"pravleen\",use_pure=True)\n",
    "    #check if the connection is established\n",
    "    print(mydb.is_connected())\n",
    "    #create a new database\n",
    "    query = \"Create database GlassData1;\"\n",
    "    cursor = mydb.cursor() #create a cursor to execute queries\n",
    "    cursor.execute(query)\n",
    "    print(\"Database Created!!\")\n",
    "    mydb.close() #close the connection\n",
    "\n",
    "    #Establish a new connection to the database created above\n",
    "    mydb = connection.connect(host=\"localhost\", database = 'GlassData1',user=\"root\", passwd=\"pravleen\", use_pure=True)\n",
    "\n",
    "    #create a new table to store glass data\n",
    "    query = \"CREATE TABLE IF NOT EXISTS GlassData (Index_Number INT(10),RI float(10,5), Na float(10,5), Mg float(10,5),Al float(10,5),\" \\\n",
    "            \" Si float(10,5), K float(10,5), Ca float(10,5), Ba float(10,5), Fe float(10,5), Class INT(5))\"\n",
    "    cursor = mydb.cursor()  # create a cursor to execute queries\n",
    "    cursor.execute(query)\n",
    "    print(\"Table Created!!\")\n",
    "\n",
    "    #read from the file\n",
    "    with open('glass.data', \"r\") as f:\n",
    "        next(f)\n",
    "        glass_data = csv.reader(f, delimiter=\"\\n\")\n",
    "        for line in enumerate(glass_data):\n",
    "            for list_ in (line[1]):\n",
    "                cursor.execute('INSERT INTO GlassData values ({values})'.format(values=(list_)))\n",
    "    print(\"Values inserted!!\")\n",
    "    mydb.commit()\n",
    "    cursor.close()\n",
    "    mydb.close()\n",
    "\n",
    "except Exception as e:\n",
    "    #mydb.close()\n",
    "    print(str(e))"
   ]
  },
  {
   "cell_type": "code",
   "execution_count": 54,
   "metadata": {},
   "outputs": [
    {
     "ename": "IndentationError",
     "evalue": "unexpected indent (<ipython-input-54-16baa60e85fb>, line 4)",
     "output_type": "error",
     "traceback": [
      "\u001b[1;36m  File \u001b[1;32m\"<ipython-input-54-16baa60e85fb>\"\u001b[1;36m, line \u001b[1;32m4\u001b[0m\n\u001b[1;33m    query = \"CREATE TABLE IF NOT EXISTS GlassData (Index_Number INT(10),RI float(10,5), Na float(10,5), Mg float(10,5),Al float(10,5),\" \\\u001b[0m\n\u001b[1;37m    ^\u001b[0m\n\u001b[1;31mIndentationError\u001b[0m\u001b[1;31m:\u001b[0m unexpected indent\n"
     ]
    }
   ],
   "source": []
  },
  {
   "cell_type": "code",
   "execution_count": null,
   "metadata": {},
   "outputs": [],
   "source": []
  }
 ],
 "metadata": {
  "kernelspec": {
   "display_name": "Python 3",
   "language": "python",
   "name": "python3"
  },
  "language_info": {
   "codemirror_mode": {
    "name": "ipython",
    "version": 3
   },
   "file_extension": ".py",
   "mimetype": "text/x-python",
   "name": "python",
   "nbconvert_exporter": "python",
   "pygments_lexer": "ipython3",
   "version": "3.8.3"
  }
 },
 "nbformat": 4,
 "nbformat_minor": 4
}
